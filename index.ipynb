{
 "cells": [
  {
   "cell_type": "markdown",
   "metadata": {},
   "source": [
    "# PHP 2022"
   ]
  },
  {
   "cell_type": "markdown",
   "metadata": {},
   "source": [
    "## 9. Laravel TDD"
   ]
  },
  {
   "cell_type": "markdown",
   "metadata": {},
   "source": [
    "This project was started from the solution of the previous exercise.\n",
    "\n",
    "#### Laravel Breeze\n",
    "\n",
    "The [Laravel Breeze](https://laravel.com/docs/9.x/starter-kits#laravel-breeze) package was installed using the ```composer require laravel/breeze --dev``` and ```php artisan breeze:install``` commands. This package enables user registration and logging into the application.\n",
    "\n",
    "An example user is added through the [database/seeders/UsersSeeder.php](../../edit/09_laravel_tdd/project/database/seeders/UsersSeeder.php) class generated using the ```php artisan make:seeder UsersSeeder``` command. The database seeding is done during the execution of the ```php artisan db:seed``` command before the database dump.\n",
    "\n",
    "The logging-in is tested in the [tests_codeception/Acceptance/Test02_LoginCest.php](../../edit/09_laravel_tdd/project/tests_codeception/Acceptance/Test02_LoginCest.php) test.\n",
    "\n",
    "Extensive testing is also done when executing the ```php artisan test``` command because the ```php artisan breeze:install``` command added many additional tests.\n",
    "\n",
    "Because there are many tests, it was possible to safely clean up PHPStan issues in the code added by ```php artisan breeze:install``` command.\n",
    "\n",
    "#### Laravel Markdown\n",
    "\n",
    "The next change done in the project was the use of the [graham-campbell/markdown](https://packagist.org/packages/graham-campbell/markdown) package, which adds support for Markdown in Laravel.\n",
    "\n",
    "The package was installed using the ```composer require graham-campbell/markdown``` command.\n",
    "\n",
    "The [tests_codeception/Acceptance/Test01_CommentsCest.php](../../edit/09_laravel_tdd/project/tests_codeception/Acceptance/Test01_CommentsCest.php) test was extended to test for adding some **bold** text. The [resources/views/comments/show.blade.php](../../edit/09_laravel_tdd/project/resources/views/comments/show.blade.php) view was updated to render the Markdown.\n",
    "\n",
    "#### Tailwind CSS\n",
    "\n",
    "The [tailwindcss](https://tailwindcss.com/) is used to style the front end. Some examples of how to build components in HTML with CSS can be found on, e.g., [flowbite](https://flowbite.com/) site.\n",
    "\n",
    "However, I am not an expert here, so there might be much better resources ;)"
   ]
  },
  {
   "cell_type": "markdown",
   "metadata": {},
   "source": [
    "Start database:"
   ]
  },
  {
   "cell_type": "code",
   "execution_count": 1,
   "metadata": {},
   "outputs": [
    {
     "name": "stdout",
     "output_type": "stream",
     "text": [
      "a0c64957bf46d98077c5655b11fe18d4631e054c2f680900e673d225954d4045\r\n"
     ]
    }
   ],
   "source": [
    "! docker run --name=mysql --net=host --rm --env MYSQL_ROOT_PASSWORD=root123 --env MYSQL_ROOT_HOST=% --env MYSQL_DATABASE=test --env MYSQL_USER=test --env MYSQL_PASSWORD=test123 -d mysql/mysql-server:8.0"
   ]
  },
  {
   "cell_type": "code",
   "execution_count": 2,
   "metadata": {},
   "outputs": [
    {
     "name": "stdout",
     "output_type": "stream",
     "text": [
      "Done.\r\n"
     ]
    }
   ],
   "source": [
    "! while ! timeout 1 bash -c \"echo > /dev/tcp/localhost/3306\" 2> /dev/null; do sleep 1; done; echo \"Done.\";"
   ]
  },
  {
   "cell_type": "markdown",
   "metadata": {},
   "source": [
    "Edit the code:"
   ]
  },
  {
   "cell_type": "code",
   "execution_count": null,
   "metadata": {},
   "outputs": [
    {
     "name": "stdout",
     "output_type": "stream",
     "text": [
      "Info  | RdCoroutineScope          | 1:main          | RdCoroutineHost overridden \n",
      "2023-06-21 13:17:59,903 [   7891]   WARN - #c.i.u.x.Binding - no accessors for com.jetbrains.php.testFramework.PhpTestFrameworkType\n",
      "2023-06-21 13:18:01,443 [   9431]   WARN - #c.i.o.a.i.ActionUpdater - 388 ms to grab EDT for CWMTelephonyGroup#update@NavBarToolbar (com.jetbrains.rd.platform.codeWithMe.telephony.CWMTelephonyGroup)\n",
      "2023-06-21 13:18:01,444 [   9432]   WARN - #c.i.o.a.i.ActionUpdater - 389 ms to grab EDT for BackAction#update@MainToolbar (com.intellij.ide.actions.BackAction)\n",
      "2023-06-21 13:18:06,011 [  13999]   WARN - #c.j.p.p.PharLibraryManager - Frequent root change. Source class com.jetbrains.php.phar.PharLibraryManager, delta 3116.\n",
      "Old roots: [phar:///home/student/PHP22/php_2022_maciej_drewniak/09_laravel_tdd/project/vendor/bin/phpstan.phar/]\n",
      "New Roots: [phar:///home/student/PHP22/php_2022_maciej_drewniak/09_laravel_tdd/project/vendor/bin/phpstan.phar/, phar:///home/student/PHP22/php_2022_maciej_drewniak/09_laravel_tdd/project/vendor/phpstan/phpstan/phpstan.phar/]\n",
      "2023-06-21 13:19:31,321 [  99309]   WARN - #c.i.u.x.Binding - no accessors for org.jetbrains.idea.perforce.perforce.ConnectionId\n",
      "2023-06-21 13:19:41,018 [ 109006] SEVERE - c.j.t.m.TerminalTextBuffer - Attempt to get line out of bounds: 11 >= 11\n",
      "2023-06-21 13:19:41,018 [ 109006] SEVERE - c.j.t.m.TerminalTextBuffer - Attempt to get line out of bounds: 11 >= 11\n",
      "2023-06-21 13:21:06,604 [ 194592]   WARN - #c.j.p.PhpIndex - Invalid Signature '\\array<\\string,\\mixed>'\n",
      "2023-06-21 13:22:24,630 [ 272618]   WARN - #c.j.p.PhpIndex - Invalid Signature '\\array<\\string,\\mixed>'\n",
      "2023-06-21 13:23:49,219 [ 357207]   WARN - #c.j.p.PhpIndex - Invalid Signature '\\array<\\string,\\mixed>'\n",
      "2023-06-21 13:24:01,521 [ 369509]   WARN - #c.j.p.PhpIndex - Invalid Signature '\\array<\\string,\\mixed>'\n",
      "2023-06-21 13:25:43,197 [ 471185]   WARN - #c.j.p.PhpIndex - Invalid Signature '\\array<\\string,\\mixed>'\n",
      "2023-06-21 13:27:43,084 [ 591072]   WARN - #c.j.p.PhpIndex - Invalid Signature '\\array<\\string,\\mixed>'\n",
      "2023-06-21 13:27:46,779 [ 594767]   WARN - #c.j.p.PhpIndex - Invalid Signature '\\array<\\string,\\mixed>'\n",
      "2023-06-21 13:27:53,301 [ 601289]   WARN - #c.j.p.PhpIndex - Invalid Signature '\\array<\\string,\\mixed>'\n",
      "2023-06-21 13:41:44,214 [1432202]   WARN - #c.j.p.PhpIndex - Invalid Signature '\\array<\\string,\\mixed>'\n",
      "2023-06-21 13:45:16,405 [1644393]   WARN - #c.j.p.PhpIndex - Invalid Signature '\\array<\\string,\\mixed>'\n",
      "2023-06-21 13:45:30,122 [1658110]   WARN - #c.j.p.PhpIndex - Invalid Signature '\\array<\\string,\\mixed>'\n",
      "2023-06-21 14:12:00,862 [3248850]   WARN - #c.j.p.PhpIndex - Invalid Signature '\\array<\\string,\\mixed>'\n",
      "2023-06-21 14:18:41,452 [3649440]   WARN - #c.j.p.PhpIndex - Invalid Signature '\\array<\\string,\\mixed>'\n",
      "2023-06-21 14:21:09,018 [3797006]   WARN - #c.j.p.PhpIndex - Invalid Signature '\\ArrayIterator'\n",
      "2023-06-21 14:21:09,018 [3797006]   WARN - #c.j.p.PhpIndex - Invalid Signature '\\ArrayIterator'\n",
      "2023-06-21 14:21:09,018 [3797006]   WARN - #c.j.p.PhpIndex - Invalid Signature '\\ArrayIterator'\n",
      "2023-06-21 14:21:35,152 [3823140]   WARN - #c.j.p.PhpIndex - Invalid Signature '\\ArrayIterator'\n",
      "2023-06-21 14:21:35,153 [3823141]   WARN - #c.j.p.PhpIndex - Invalid Signature '\\ArrayIterator'\n",
      "2023-06-21 14:22:14,302 [3862290]   WARN - #c.j.p.PhpIndex - Invalid Signature '\\array<\\Illuminate\\Support\\array-key,,,\\string,\\array{string, string}>'\n",
      "2023-06-21 14:23:19,148 [3927136]   WARN - #c.j.p.PhpIndex - Invalid Signature '\\ArrayIterator'\n",
      "2023-06-21 14:23:19,148 [3927136]   WARN - #c.j.p.PhpIndex - Invalid Signature '\\ArrayIterator'\n",
      "2023-06-21 14:23:19,148 [3927136]   WARN - #c.j.p.PhpIndex - Invalid Signature '\\ArrayIterator'\n",
      "2023-06-21 14:23:19,196 [3927184]   WARN - #c.j.p.PhpIndex - Invalid Signature '\\array<\\Illuminate\\Support\\array-key,,,\\string,\\array{string, string}>'\n",
      "2023-06-21 14:23:46,745 [3954733]   WARN - #c.j.p.PhpIndex - Invalid Signature '\\ArrayIterator'\n",
      "2023-06-21 14:23:46,771 [3954759]   WARN - #c.j.p.PhpIndex - Invalid Signature '\\array<\\Illuminate\\Support\\array-key,,,\\string,\\array{string, string}>'\n",
      "2023-06-21 14:26:00,725 [4088713]   WARN - #c.j.p.PhpIndex - Invalid Signature '\\array<\\string,\\mixed>'\n",
      "2023-06-21 14:26:25,043 [4113031]   WARN - #c.j.p.PhpIndex - Invalid Signature '\\array<\\string,\\mixed>'\n",
      "2023-06-21 14:26:26,598 [4114586]   WARN - #c.j.p.PhpIndex - Invalid Signature '\\array<\\string,\\mixed>'\n",
      "2023-06-21 14:46:20,514 [5308502]   WARN - #c.i.o.a.e.ActionUtil - Can not find action by id CompileDirty\n",
      "2023-06-21 14:48:40,076 [5448064]   WARN - #c.j.p.PhpIndex - Invalid Signature '\\ArrayIterator'\n",
      "2023-06-21 14:48:40,076 [5448064]   WARN - #c.j.p.PhpIndex - Invalid Signature '\\ArrayIterator'\n",
      "2023-06-21 14:48:40,076 [5448064]   WARN - #c.j.p.PhpIndex - Invalid Signature '\\ArrayIterator'\n",
      "2023-06-21 14:48:40,076 [5448064]   WARN - #c.j.p.PhpIndex - Invalid Signature '\\ArrayIterator'\n",
      "2023-06-21 14:48:40,092 [5448080]   WARN - #c.j.p.PhpIndex - Invalid Signature '\\array<\\Illuminate\\Support\\array-key,,,\\string,\\array{string, string}>'\n",
      "2023-06-21 15:09:51,902 [6719890]   WARN - #c.i.o.u.IconLoader - Cannot get reflective icon (path=JavaScriptPsiIcons.FileTypes.TypeScriptFile)\n",
      "java.lang.ClassNotFoundException: icons.JavaScriptPsiIcons$FileTypes\n",
      "\tat com.intellij.util.lang.UrlClassLoader.findClass(UrlClassLoader.java:209)\n",
      "\tat java.base/java.lang.ClassLoader.loadClass(ClassLoader.java:587)\n",
      "\tat java.base/java.lang.ClassLoader.loadClass(ClassLoader.java:520)\n",
      "\tat com.intellij.openapi.util.IconLoader.getReflectiveIcon(IconLoader.java:222)\n",
      "\tat com.intellij.openapi.util.IconLoader.findIcon(IconLoader.java:405)\n",
      "\tat com.intellij.openapi.util.IconLoader.findIcon(IconLoader.java:360)\n",
      "\tat com.intellij.util.ui.ExtendableHTMLViewFactory$Extensions$IconsExtension.getIcon(ExtendableHTMLViewFactory.kt:126)\n",
      "\tat com.intellij.util.ui.ExtendableHTMLViewFactory$Extensions$IconsExtension.invoke(ExtendableHTMLViewFactory.kt:119)\n",
      "\tat com.intellij.util.ui.ExtendableHTMLViewFactory$Extensions$IconsExtension.invoke(ExtendableHTMLViewFactory.kt:112)\n",
      "\tat com.intellij.util.ui.ExtendableHTMLViewFactory.create(ExtendableHTMLViewFactory.kt:41)\n",
      "\tat java.desktop/javax.swing.text.html.TableView.create(TableView.java:942)\n",
      "\tat java.desktop/javax.swing.text.CompositeView.loadChildren(CompositeView.java:112)\n",
      "\tat java.desktop/javax.swing.text.FlowView$LogicalView.loadChildren(FlowView.java:731)\n",
      "\tat java.desktop/javax.swing.text.CompositeView.setParent(CompositeView.java:139)\n",
      "\tat java.desktop/javax.swing.text.FlowView.loadChildren(FlowView.java:147)\n",
      "\tat java.desktop/javax.swing.text.CompositeView.setParent(CompositeView.java:139)\n",
      "\tat java.desktop/javax.swing.text.FlowView.setParent(FlowView.java:306)\n",
      "\tat java.desktop/javax.swing.text.html.ParagraphView.setParent(ParagraphView.java:75)\n",
      "\tat java.desktop/javax.swing.text.CompositeView.replace(CompositeView.java:219)\n",
      "\tat java.desktop/javax.swing.text.BoxView.replace(BoxView.java:182)\n",
      "\tat java.desktop/javax.swing.text.CompositeView.loadChildren(CompositeView.java:114)\n",
      "\tat java.desktop/javax.swing.text.CompositeView.setParent(CompositeView.java:139)\n",
      "\tat java.desktop/javax.swing.text.html.BlockView.setParent(BlockView.java:72)\n",
      "\tat java.desktop/javax.swing.text.CompositeView.replace(CompositeView.java:219)\n",
      "\tat java.desktop/javax.swing.text.BoxView.replace(BoxView.java:182)\n",
      "\tat java.desktop/javax.swing.text.html.TableView$RowView.replace(TableView.java:1474)\n",
      "\tat java.desktop/javax.swing.text.CompositeView.loadChildren(CompositeView.java:114)\n",
      "\tat java.desktop/javax.swing.text.CompositeView.setParent(CompositeView.java:139)\n",
      "\tat java.desktop/javax.swing.text.CompositeView.replace(CompositeView.java:219)\n",
      "\tat java.desktop/javax.swing.text.BoxView.replace(BoxView.java:182)\n",
      "\tat java.desktop/javax.swing.text.html.TableView.replace(TableView.java:913)\n",
      "\tat java.desktop/javax.swing.text.CompositeView.loadChildren(CompositeView.java:114)\n",
      "\tat java.desktop/javax.swing.text.CompositeView.setParent(CompositeView.java:139)\n",
      "\tat java.desktop/javax.swing.text.html.TableView.setParent(TableView.java:817)\n",
      "\tat java.desktop/javax.swing.text.CompositeView.replace(CompositeView.java:219)\n",
      "\tat java.desktop/javax.swing.text.BoxView.replace(BoxView.java:182)\n",
      "\tat java.desktop/javax.swing.text.CompositeView.loadChildren(CompositeView.java:114)\n",
      "\tat java.desktop/javax.swing.text.CompositeView.setParent(CompositeView.java:139)\n",
      "\tat java.desktop/javax.swing.text.html.BlockView.setParent(BlockView.java:72)\n",
      "\tat java.desktop/javax.swing.text.html.HTMLEditorKit$HTMLFactory$BodyBlockView.setParent(HTMLEditorKit.java:1471)\n",
      "\tat java.desktop/javax.swing.text.CompositeView.replace(CompositeView.java:219)\n",
      "\tat java.desktop/javax.swing.text.BoxView.replace(BoxView.java:182)\n",
      "\tat java.desktop/javax.swing.text.View.updateChildren(View.java:1129)\n",
      "\tat java.desktop/javax.swing.text.View.insertUpdate(View.java:708)\n",
      "\tat java.desktop/javax.swing.plaf.basic.BasicTextUI$RootView.insertUpdate(BasicTextUI.java:1714)\n",
      "\tat java.desktop/javax.swing.plaf.basic.BasicTextUI$UpdateHandler.insertUpdate(BasicTextUI.java:1996)\n",
      "\tat java.desktop/javax.swing.text.AbstractDocument.fireInsertUpdate(AbstractDocument.java:226)\n",
      "\tat java.desktop/javax.swing.text.DefaultStyledDocument.create(DefaultStyledDocument.java:160)\n",
      "\tat java.desktop/javax.swing.text.html.HTMLDocument.create(HTMLDocument.java:472)\n",
      "\tat java.desktop/javax.swing.text.html.HTMLDocument$HTMLReader.flushBuffer(HTMLDocument.java:4033)\n",
      "\tat java.desktop/javax.swing.text.html.HTMLDocument$HTMLReader.addContent(HTMLDocument.java:3972)\n",
      "\tat java.desktop/javax.swing.text.html.HTMLDocument$HTMLReader.addContent(HTMLDocument.java:3937)\n",
      "\tat java.desktop/javax.swing.text.html.HTMLDocument$HTMLReader.handleText(HTMLDocument.java:2797)\n",
      "\tat java.desktop/javax.swing.text.html.parser.DocumentParser.handleText(DocumentParser.java:271)\n",
      "\tat java.desktop/javax.swing.text.html.parser.Parser.handleText(Parser.java:409)\n",
      "\tat java.desktop/javax.swing.text.html.parser.Parser.endTag(Parser.java:524)\n",
      "\tat java.desktop/javax.swing.text.html.parser.Parser.parseTag(Parser.java:1934)\n",
      "\tat java.desktop/javax.swing.text.html.parser.Parser.parseContent(Parser.java:2195)\n",
      "\tat java.desktop/javax.swing.text.html.parser.Parser.parse(Parser.java:2372)\n",
      "\tat java.desktop/javax.swing.text.html.parser.DocumentParser.parse(DocumentParser.java:135)\n",
      "\tat java.desktop/javax.swing.text.html.parser.ParserDelegator.parse(ParserDelegator.java:114)\n",
      "\tat java.desktop/javax.swing.text.html.HTMLEditorKit.read(HTMLEditorKit.java:263)\n",
      "\tat java.desktop/javax.swing.JEditorPane.setText(JEditorPane.java:1484)\n",
      "\tat com.intellij.codeInsight.documentation.DocumentationEditorPane.setText(DocumentationEditorPane.java:92)\n",
      "\tat com.intellij.lang.documentation.ide.ui.DocumentationUI.updateContent(DocumentationUI.kt:210)\n",
      "\tat com.intellij.lang.documentation.ide.ui.DocumentationUI.handleContent(DocumentationUI.kt:159)\n",
      "\tat com.intellij.lang.documentation.ide.ui.DocumentationUI.handleContent(DocumentationUI.kt:148)\n",
      "\tat com.intellij.lang.documentation.ide.ui.DocumentationUI.access$handleContent(DocumentationUI.kt:44)\n",
      "\tat com.intellij.lang.documentation.ide.ui.DocumentationUI$handlePage$2.invokeSuspend(DocumentationUI.kt:128)\n",
      "\tat com.intellij.lang.documentation.ide.ui.DocumentationUI$handlePage$2.invoke(DocumentationUI.kt)\n",
      "\tat com.intellij.util.flow.FlowKt$collectLatestUndispatched$2$firstJob$1.invokeSuspend(flow.kt:64)\n",
      "\tat com.intellij.util.flow.FlowKt$collectLatestUndispatched$2$firstJob$1.invoke(flow.kt)\n",
      "\tat kotlinx.coroutines.intrinsics.UndispatchedKt.startCoroutineUndispatched(Undispatched.kt:55)\n",
      "\tat kotlinx.coroutines.CoroutineStart.invoke(CoroutineStart.kt:112)\n",
      "\tat kotlinx.coroutines.AbstractCoroutine.start(AbstractCoroutine.kt:126)\n",
      "\tat kotlinx.coroutines.BuildersKt__Builders_commonKt.launch(Builders.common.kt:56)\n",
      "\tat kotlinx.coroutines.BuildersKt.launch(Unknown Source)\n",
      "\tat kotlinx.coroutines.BuildersKt__Builders_commonKt.launch$default(Builders.common.kt:47)\n",
      "\tat kotlinx.coroutines.BuildersKt.launch$default(Unknown Source)\n",
      "\tat com.intellij.util.flow.FlowKt$collectLatestUndispatched$2.invokeSuspend(flow.kt:63)\n",
      "\tat com.intellij.util.flow.FlowKt$collectLatestUndispatched$2.invoke(flow.kt)\n",
      "\tat kotlinx.coroutines.intrinsics.UndispatchedKt.startUndispatchedOrReturn(Undispatched.kt:89)\n",
      "\tat kotlinx.coroutines.CoroutineScopeKt.coroutineScope(CoroutineScope.kt:264)\n",
      "\tat com.intellij.util.flow.FlowKt.collectLatestUndispatched(flow.kt:62)\n",
      "\tat com.intellij.lang.documentation.ide.ui.DocumentationUI.handlePage(DocumentationUI.kt:127)\n",
      "\tat com.intellij.lang.documentation.ide.ui.DocumentationUI.access$handlePage(DocumentationUI.kt:44)\n",
      "\tat com.intellij.lang.documentation.ide.ui.DocumentationUI$5$1.invokeSuspend(DocumentationUI.kt:89)\n",
      "\tat com.intellij.lang.documentation.ide.ui.DocumentationUI$5$1.invoke(DocumentationUI.kt)\n",
      "\tat com.intellij.util.flow.FlowKt$collectLatestUndispatched$2$firstJob$1.invokeSuspend(flow.kt:64)\n",
      "\tat com.intellij.util.flow.FlowKt$collectLatestUndispatched$2$firstJob$1.invoke(flow.kt)\n",
      "\tat kotlinx.coroutines.intrinsics.UndispatchedKt.startCoroutineUndispatched(Undispatched.kt:55)\n",
      "\tat kotlinx.coroutines.CoroutineStart.invoke(CoroutineStart.kt:112)\n",
      "\tat kotlinx.coroutines.AbstractCoroutine.start(AbstractCoroutine.kt:126)\n",
      "\tat kotlinx.coroutines.BuildersKt__Builders_commonKt.launch(Builders.common.kt:56)\n",
      "\tat kotlinx.coroutines.BuildersKt.launch(Unknown Source)\n",
      "\tat kotlinx.coroutines.BuildersKt__Builders_commonKt.launch$default(Builders.common.kt:47)\n",
      "\tat kotlinx.coroutines.BuildersKt.launch$default(Unknown Source)\n",
      "\tat com.intellij.util.flow.FlowKt$collectLatestUndispatched$2.invokeSuspend(flow.kt:63)\n",
      "\tat com.intellij.util.flow.FlowKt$collectLatestUndispatched$2.invoke(flow.kt)\n",
      "\tat kotlinx.coroutines.intrinsics.UndispatchedKt.startUndispatchedOrReturn(Undispatched.kt:89)\n",
      "\tat kotlinx.coroutines.CoroutineScopeKt.coroutineScope(CoroutineScope.kt:264)\n",
      "\tat com.intellij.util.flow.FlowKt.collectLatestUndispatched(flow.kt:62)\n",
      "\tat com.intellij.lang.documentation.ide.ui.DocumentationUI$5.invokeSuspend(DocumentationUI.kt:88)\n",
      "\tat com.intellij.lang.documentation.ide.ui.DocumentationUI$5.invoke(DocumentationUI.kt)\n",
      "\tat kotlinx.coroutines.intrinsics.UndispatchedKt.startCoroutineUndispatched(Undispatched.kt:55)\n",
      "\tat kotlinx.coroutines.CoroutineStart.invoke(CoroutineStart.kt:112)\n",
      "\tat kotlinx.coroutines.AbstractCoroutine.start(AbstractCoroutine.kt:126)\n",
      "\tat kotlinx.coroutines.BuildersKt__Builders_commonKt.launch(Builders.common.kt:56)\n",
      "\tat kotlinx.coroutines.BuildersKt.launch(Unknown Source)\n",
      "\tat com.intellij.lang.documentation.ide.ui.DocumentationUI.<init>(DocumentationUI.kt:87)\n",
      "\tat com.intellij.lang.documentation.ide.impl.DocumentationTargetHoverInfo.createQuickDocComponent(DocumentationTargetHoverInfo.kt:103)\n",
      "\tat com.intellij.openapi.editor.EditorHoverInfo.createComponent(EditorHoverInfo.java:35)\n",
      "\tat com.intellij.openapi.editor.EditorMouseHoverPopupManager.lambda$scheduleProcessing$6(EditorMouseHoverPopupManager.java:215)\n",
      "\tat com.intellij.openapi.application.TransactionGuardImpl.runWithWritingAllowed(TransactionGuardImpl.java:209)\n",
      "\tat com.intellij.openapi.application.TransactionGuardImpl.access$100(TransactionGuardImpl.java:21)\n",
      "\tat com.intellij.openapi.application.TransactionGuardImpl$1.run(TransactionGuardImpl.java:191)\n",
      "\tat com.intellij.openapi.application.impl.ApplicationImpl.runIntendedWriteActionOnCurrentThread(ApplicationImpl.java:881)\n",
      "\tat com.intellij.openapi.application.impl.ApplicationImpl$3.run(ApplicationImpl.java:513)\n",
      "\tat com.intellij.openapi.application.impl.FlushQueue.doRun(FlushQueue.java:75)\n",
      "\tat com.intellij.openapi.application.impl.FlushQueue.runNextEvent(FlushQueue.java:118)\n",
      "\tat com.intellij.openapi.application.impl.FlushQueue.flushNow(FlushQueue.java:42)\n",
      "\tat java.desktop/java.awt.event.InvocationEvent.dispatch(InvocationEvent.java:318)\n",
      "\tat java.desktop/java.awt.EventQueue.dispatchEventImpl(EventQueue.java:779)\n",
      "\tat java.desktop/java.awt.EventQueue$4.run(EventQueue.java:730)\n",
      "\tat java.desktop/java.awt.EventQueue$4.run(EventQueue.java:724)\n",
      "\tat java.base/java.security.AccessController.doPrivileged(AccessController.java:399)\n",
      "\tat java.base/java.security.ProtectionDomain$JavaSecurityAccessImpl.doIntersectionPrivilege(ProtectionDomain.java:86)\n",
      "\tat java.desktop/java.awt.EventQueue.dispatchEvent(EventQueue.java:749)\n",
      "\tat com.intellij.ide.IdeEventQueue.defaultDispatchEvent(IdeEventQueue.java:918)\n",
      "\tat com.intellij.ide.IdeEventQueue._dispatchEvent(IdeEventQueue.java:766)\n",
      "\tat com.intellij.ide.IdeEventQueue.lambda$dispatchEvent$6(IdeEventQueue.java:450)\n",
      "\tat com.intellij.openapi.progress.impl.CoreProgressManager.computePrioritized(CoreProgressManager.java:791)\n",
      "\tat com.intellij.ide.IdeEventQueue.lambda$dispatchEvent$7(IdeEventQueue.java:449)\n",
      "\tat com.intellij.openapi.application.TransactionGuardImpl.performActivity(TransactionGuardImpl.java:105)\n",
      "\tat com.intellij.ide.IdeEventQueue.performActivity(IdeEventQueue.java:624)\n",
      "\tat com.intellij.ide.IdeEventQueue.lambda$dispatchEvent$8(IdeEventQueue.java:447)\n",
      "\tat com.intellij.openapi.application.impl.ApplicationImpl.runIntendedWriteActionOnCurrentThread(ApplicationImpl.java:881)\n",
      "\tat com.intellij.ide.IdeEventQueue.dispatchEvent(IdeEventQueue.java:493)\n",
      "\tat java.desktop/java.awt.EventDispatchThread.pumpOneEventForFilters(EventDispatchThread.java:207)\n",
      "\tat java.desktop/java.awt.EventDispatchThread.pumpEventsForFilter(EventDispatchThread.java:128)\n",
      "\tat java.desktop/java.awt.EventDispatchThread.pumpEventsForHierarchy(EventDispatchThread.java:117)\n",
      "\tat java.desktop/java.awt.EventDispatchThread.pumpEvents(EventDispatchThread.java:113)\n",
      "\tat java.desktop/java.awt.EventDispatchThread.pumpEvents(EventDispatchThread.java:105)\n",
      "\tat java.desktop/java.awt.EventDispatchThread.run(EventDispatchThread.java:92)\n",
      "2023-06-21 15:09:51,910 [6719898]   WARN - #c.i.o.u.IconLoader - Cannot get reflective icon (path=JavaScriptPsiIcons.FileTypes.TypeScriptFile)\n",
      "java.lang.ClassNotFoundException: icons.JavaScriptPsiIcons$FileTypes\n",
      "\tat com.intellij.util.lang.UrlClassLoader.findClass(UrlClassLoader.java:209)\n",
      "\tat java.base/java.lang.ClassLoader.loadClass(ClassLoader.java:587)\n",
      "\tat java.base/java.lang.ClassLoader.loadClass(ClassLoader.java:520)\n",
      "\tat com.intellij.openapi.util.IconLoader.getReflectiveIcon(IconLoader.java:222)\n",
      "\tat com.intellij.openapi.util.IconLoader.findIcon(IconLoader.java:405)\n",
      "\tat com.intellij.openapi.util.IconLoader.findIcon(IconLoader.java:360)\n",
      "\tat com.intellij.util.ui.ExtendableHTMLViewFactory$Extensions$IconsExtension.getIcon(ExtendableHTMLViewFactory.kt:126)\n",
      "\tat com.intellij.util.ui.ExtendableHTMLViewFactory$Extensions$IconsExtension.invoke(ExtendableHTMLViewFactory.kt:119)\n",
      "\tat com.intellij.util.ui.ExtendableHTMLViewFactory$Extensions$IconsExtension.invoke(ExtendableHTMLViewFactory.kt:112)\n",
      "\tat com.intellij.util.ui.ExtendableHTMLViewFactory.create(ExtendableHTMLViewFactory.kt:41)\n",
      "\tat java.desktop/javax.swing.text.html.TableView.create(TableView.java:942)\n",
      "\tat java.desktop/javax.swing.text.CompositeView.loadChildren(CompositeView.java:112)\n",
      "\tat java.desktop/javax.swing.text.FlowView$LogicalView.loadChildren(FlowView.java:731)\n",
      "\tat java.desktop/javax.swing.text.CompositeView.setParent(CompositeView.java:139)\n",
      "\tat java.desktop/javax.swing.text.FlowView.loadChildren(FlowView.java:147)\n",
      "\tat java.desktop/javax.swing.text.CompositeView.setParent(CompositeView.java:139)\n",
      "\tat java.desktop/javax.swing.text.FlowView.setParent(FlowView.java:306)\n",
      "\tat java.desktop/javax.swing.text.html.ParagraphView.setParent(ParagraphView.java:75)\n",
      "\tat java.desktop/javax.swing.text.CompositeView.replace(CompositeView.java:219)\n",
      "\tat java.desktop/javax.swing.text.BoxView.replace(BoxView.java:182)\n",
      "\tat java.desktop/javax.swing.text.CompositeView.loadChildren(CompositeView.java:114)\n",
      "\tat java.desktop/javax.swing.text.CompositeView.setParent(CompositeView.java:139)\n",
      "\tat java.desktop/javax.swing.text.html.BlockView.setParent(BlockView.java:72)\n",
      "\tat java.desktop/javax.swing.text.CompositeView.replace(CompositeView.java:219)\n",
      "\tat java.desktop/javax.swing.text.BoxView.replace(BoxView.java:182)\n",
      "\tat java.desktop/javax.swing.text.html.TableView$RowView.replace(TableView.java:1474)\n",
      "\tat java.desktop/javax.swing.text.CompositeView.loadChildren(CompositeView.java:114)\n",
      "\tat java.desktop/javax.swing.text.CompositeView.setParent(CompositeView.java:139)\n",
      "\tat java.desktop/javax.swing.text.CompositeView.replace(CompositeView.java:219)\n",
      "\tat java.desktop/javax.swing.text.BoxView.replace(BoxView.java:182)\n",
      "\tat java.desktop/javax.swing.text.html.TableView.replace(TableView.java:913)\n",
      "\tat java.desktop/javax.swing.text.CompositeView.loadChildren(CompositeView.java:114)\n",
      "\tat java.desktop/javax.swing.text.CompositeView.setParent(CompositeView.java:139)\n",
      "\tat java.desktop/javax.swing.text.html.TableView.setParent(TableView.java:817)\n",
      "\tat java.desktop/javax.swing.text.CompositeView.replace(CompositeView.java:219)\n",
      "\tat java.desktop/javax.swing.text.BoxView.replace(BoxView.java:182)\n",
      "\tat java.desktop/javax.swing.text.CompositeView.loadChildren(CompositeView.java:114)\n",
      "\tat java.desktop/javax.swing.text.CompositeView.setParent(CompositeView.java:139)\n",
      "\tat java.desktop/javax.swing.text.html.BlockView.setParent(BlockView.java:72)\n",
      "\tat java.desktop/javax.swing.text.html.HTMLEditorKit$HTMLFactory$BodyBlockView.setParent(HTMLEditorKit.java:1471)\n",
      "\tat java.desktop/javax.swing.text.CompositeView.replace(CompositeView.java:219)\n",
      "\tat java.desktop/javax.swing.text.BoxView.replace(BoxView.java:182)\n",
      "\tat java.desktop/javax.swing.text.CompositeView.loadChildren(CompositeView.java:114)\n",
      "\tat java.desktop/javax.swing.text.CompositeView.setParent(CompositeView.java:139)\n",
      "\tat java.desktop/javax.swing.text.html.BlockView.setParent(BlockView.java:72)\n",
      "\tat java.desktop/javax.swing.plaf.basic.BasicTextUI$RootView.setView(BasicTextUI.java:1432)\n",
      "\tat java.desktop/javax.swing.plaf.basic.BasicTextUI.setView(BasicTextUI.java:713)\n",
      "\tat java.desktop/javax.swing.plaf.basic.BasicTextUI.modelChanged(BasicTextUI.java:702)\n",
      "\tat java.desktop/javax.swing.plaf.basic.BasicTextUI$UpdateHandler.propertyChange(BasicTextUI.java:1919)\n",
      "\tat java.desktop/java.beans.PropertyChangeSupport.fire(PropertyChangeSupport.java:343)\n",
      "\tat java.desktop/java.beans.PropertyChangeSupport.firePropertyChange(PropertyChangeSupport.java:335)\n",
      "\tat java.desktop/java.beans.PropertyChangeSupport.firePropertyChange(PropertyChangeSupport.java:268)\n",
      "\tat java.desktop/java.awt.Component.firePropertyChange(Component.java:8750)\n",
      "\tat java.desktop/java.awt.Component.setFont(Component.java:1979)\n",
      "\tat java.desktop/java.awt.Container.setFont(Container.java:1780)\n",
      "\tat java.desktop/javax.swing.JComponent.setFont(JComponent.java:2817)\n",
      "\tat com.intellij.codeInsight.documentation.DocumentationEditorPane.applyFontProps(DocumentationEditorPane.java:196)\n",
      "\tat com.intellij.lang.documentation.ide.ui.DocumentationUI$6$invokeSuspend$$inlined$collect$1.emit(Collect.kt:135)\n",
      "\tat kotlinx.coroutines.flow.StateFlowImpl.collect(StateFlow.kt:398)\n",
      "\tat kotlinx.coroutines.flow.ReadonlySharedFlow.collect(Share.kt)\n",
      "\tat com.intellij.lang.documentation.ide.ui.DocumentationUI$6.invokeSuspend(DocumentationUI.kt:256)\n",
      "\tat com.intellij.lang.documentation.ide.ui.DocumentationUI$6.invoke(DocumentationUI.kt)\n",
      "\tat kotlinx.coroutines.intrinsics.UndispatchedKt.startCoroutineUndispatched(Undispatched.kt:55)\n",
      "\tat kotlinx.coroutines.CoroutineStart.invoke(CoroutineStart.kt:112)\n",
      "\tat kotlinx.coroutines.AbstractCoroutine.start(AbstractCoroutine.kt:126)\n",
      "\tat kotlinx.coroutines.BuildersKt__Builders_commonKt.launch(Builders.common.kt:56)\n",
      "\tat kotlinx.coroutines.BuildersKt.launch(Unknown Source)\n",
      "\tat com.intellij.lang.documentation.ide.ui.DocumentationUI.<init>(DocumentationUI.kt:92)\n",
      "\tat com.intellij.lang.documentation.ide.impl.DocumentationTargetHoverInfo.createQuickDocComponent(DocumentationTargetHoverInfo.kt:103)\n",
      "\tat com.intellij.openapi.editor.EditorHoverInfo.createComponent(EditorHoverInfo.java:35)\n",
      "\tat com.intellij.openapi.editor.EditorMouseHoverPopupManager.lambda$scheduleProcessing$6(EditorMouseHoverPopupManager.java:215)\n",
      "\tat com.intellij.openapi.application.TransactionGuardImpl.runWithWritingAllowed(TransactionGuardImpl.java:209)\n",
      "\tat com.intellij.openapi.application.TransactionGuardImpl.access$100(TransactionGuardImpl.java:21)\n",
      "\tat com.intellij.openapi.application.TransactionGuardImpl$1.run(TransactionGuardImpl.java:191)\n",
      "\tat com.intellij.openapi.application.impl.ApplicationImpl.runIntendedWriteActionOnCurrentThread(ApplicationImpl.java:881)\n",
      "\tat com.intellij.openapi.application.impl.ApplicationImpl$3.run(ApplicationImpl.java:513)\n",
      "\tat com.intellij.openapi.application.impl.FlushQueue.doRun(FlushQueue.java:75)\n",
      "\tat com.intellij.openapi.application.impl.FlushQueue.runNextEvent(FlushQueue.java:118)\n",
      "\tat com.intellij.openapi.application.impl.FlushQueue.flushNow(FlushQueue.java:42)\n",
      "\tat java.desktop/java.awt.event.InvocationEvent.dispatch(InvocationEvent.java:318)\n",
      "\tat java.desktop/java.awt.EventQueue.dispatchEventImpl(EventQueue.java:779)\n",
      "\tat java.desktop/java.awt.EventQueue$4.run(EventQueue.java:730)\n",
      "\tat java.desktop/java.awt.EventQueue$4.run(EventQueue.java:724)\n",
      "\tat java.base/java.security.AccessController.doPrivileged(AccessController.java:399)\n",
      "\tat java.base/java.security.ProtectionDomain$JavaSecurityAccessImpl.doIntersectionPrivilege(ProtectionDomain.java:86)\n",
      "\tat java.desktop/java.awt.EventQueue.dispatchEvent(EventQueue.java:749)\n",
      "\tat com.intellij.ide.IdeEventQueue.defaultDispatchEvent(IdeEventQueue.java:918)\n",
      "\tat com.intellij.ide.IdeEventQueue._dispatchEvent(IdeEventQueue.java:766)\n",
      "\tat com.intellij.ide.IdeEventQueue.lambda$dispatchEvent$6(IdeEventQueue.java:450)\n",
      "\tat com.intellij.openapi.progress.impl.CoreProgressManager.computePrioritized(CoreProgressManager.java:791)\n",
      "\tat com.intellij.ide.IdeEventQueue.lambda$dispatchEvent$7(IdeEventQueue.java:449)\n",
      "\tat com.intellij.openapi.application.TransactionGuardImpl.performActivity(TransactionGuardImpl.java:105)\n",
      "\tat com.intellij.ide.IdeEventQueue.performActivity(IdeEventQueue.java:624)\n",
      "\tat com.intellij.ide.IdeEventQueue.lambda$dispatchEvent$8(IdeEventQueue.java:447)\n",
      "\tat com.intellij.openapi.application.impl.ApplicationImpl.runIntendedWriteActionOnCurrentThread(ApplicationImpl.java:881)\n",
      "\tat com.intellij.ide.IdeEventQueue.dispatchEvent(IdeEventQueue.java:493)\n",
      "\tat java.desktop/java.awt.EventDispatchThread.pumpOneEventForFilters(EventDispatchThread.java:207)\n",
      "\tat java.desktop/java.awt.EventDispatchThread.pumpEventsForFilter(EventDispatchThread.java:128)\n",
      "\tat java.desktop/java.awt.EventDispatchThread.pumpEventsForHierarchy(EventDispatchThread.java:117)\n",
      "\tat java.desktop/java.awt.EventDispatchThread.pumpEvents(EventDispatchThread.java:113)\n",
      "\tat java.desktop/java.awt.EventDispatchThread.pumpEvents(EventDispatchThread.java:105)\n",
      "\tat java.desktop/java.awt.EventDispatchThread.run(EventDispatchThread.java:92)\n"
     ]
    },
    {
     "name": "stdout",
     "output_type": "stream",
     "text": [
      "2023-06-21 15:10:47,292 [6775280]   WARN - #c.i.o.a.i.ActionToolbarImpl - 'run.anything.toolbar' toolbar by default uses any focused component to update its actions. Toolbar actions that need local UI context would be incorrectly disabled. Please call toolbar.setTargetComponent() explicitly.\n",
      "java.lang.Throwable: toolbar creation trace\n",
      "\tat com.intellij.openapi.actionSystem.impl.ActionToolbarImpl.<init>(ActionToolbarImpl.java:115)\n",
      "\tat com.intellij.openapi.actionSystem.impl.ActionToolbarImpl.<init>(ActionToolbarImpl.java:173)\n",
      "\tat com.intellij.openapi.actionSystem.impl.ActionManagerImpl.createActionToolbar(ActionManagerImpl.java:445)\n",
      "\tat com.intellij.openapi.actionSystem.impl.ActionManagerImpl.createActionToolbar(ActionManagerImpl.java:440)\n",
      "\tat com.intellij.ide.actions.runAnything.RunAnythingPopupUI.createHeader(RunAnythingPopupUI.java:801)\n",
      "\tat com.intellij.ide.actions.BigPopupUI.init(BigPopupUI.java:167)\n",
      "\tat com.intellij.ide.actions.runAnything.RunAnythingPopupUI.<init>(RunAnythingPopupUI.java:692)\n",
      "\tat com.intellij.ide.actions.runAnything.RunAnythingManager.createView(RunAnythingManager.java:140)\n",
      "\tat com.intellij.ide.actions.runAnything.RunAnythingManager.show(RunAnythingManager.java:46)\n",
      "\tat com.intellij.ide.actions.runAnything.RunAnythingManager.show(RunAnythingManager.java:38)\n",
      "\tat com.intellij.ide.actions.runAnything.RunAnythingAction.actionPerformed(RunAnythingAction.java:80)\n",
      "\tat com.intellij.openapi.actionSystem.ex.ActionUtil.doPerformActionOrShowPopup(ActionUtil.java:315)\n",
      "\tat com.intellij.openapi.actionSystem.ex.ActionUtil.lambda$performActionDumbAwareWithCallbacks$4(ActionUtil.java:294)\n",
      "\tat com.intellij.openapi.actionSystem.ex.ActionUtil.performDumbAwareWithCallbacks(ActionUtil.java:337)\n",
      "\tat com.intellij.openapi.actionSystem.ex.ActionUtil.performActionDumbAwareWithCallbacks(ActionUtil.java:294)\n",
      "\tat com.intellij.openapi.keymap.impl.ModifierKeyDoubleClickHandler$MyDispatcher.run(ModifierKeyDoubleClickHandler.java:274)\n",
      "\tat com.intellij.openapi.keymap.impl.ModifierKeyDoubleClickHandler$MyDispatcher.handleModifier(ModifierKeyDoubleClickHandler.java:239)\n",
      "\tat com.intellij.openapi.keymap.impl.ModifierKeyDoubleClickHandler$MyDispatcher.dispatch(ModifierKeyDoubleClickHandler.java:176)\n",
      "\tat com.intellij.openapi.keymap.impl.ModifierKeyDoubleClickHandler$MyEventDispatcher.dispatch(ModifierKeyDoubleClickHandler.java:93)\n",
      "\tat com.intellij.ide.IdeEventQueue.dispatchByCustomDispatchers(IdeEventQueue.java:869)\n",
      "\tat com.intellij.ide.IdeEventQueue._dispatchEvent(IdeEventQueue.java:741)\n",
      "\tat com.intellij.ide.IdeEventQueue.lambda$dispatchEvent$6(IdeEventQueue.java:450)\n",
      "\tat com.intellij.openapi.progress.impl.CoreProgressManager.computePrioritized(CoreProgressManager.java:791)\n",
      "\tat com.intellij.ide.IdeEventQueue.lambda$dispatchEvent$7(IdeEventQueue.java:449)\n",
      "\tat com.intellij.openapi.application.TransactionGuardImpl.performActivity(TransactionGuardImpl.java:113)\n",
      "\tat com.intellij.ide.IdeEventQueue.performActivity(IdeEventQueue.java:624)\n",
      "\tat com.intellij.ide.IdeEventQueue.lambda$dispatchEvent$8(IdeEventQueue.java:447)\n",
      "\tat com.intellij.openapi.application.impl.ApplicationImpl.runIntendedWriteActionOnCurrentThread(ApplicationImpl.java:881)\n",
      "\tat com.intellij.ide.IdeEventQueue.dispatchEvent(IdeEventQueue.java:493)\n",
      "\tat java.desktop/java.awt.EventDispatchThread.pumpOneEventForFilters(EventDispatchThread.java:207)\n",
      "\tat java.desktop/java.awt.EventDispatchThread.pumpEventsForFilter(EventDispatchThread.java:128)\n",
      "\tat java.desktop/java.awt.EventDispatchThread.pumpEventsForHierarchy(EventDispatchThread.java:117)\n",
      "\tat java.desktop/java.awt.EventDispatchThread.pumpEvents(EventDispatchThread.java:113)\n",
      "\tat java.desktop/java.awt.EventDispatchThread.pumpEvents(EventDispatchThread.java:105)\n",
      "\tat java.desktop/java.awt.EventDispatchThread.run(EventDispatchThread.java:92)\n",
      "2023-06-21 15:17:49,592 [7197580]   WARN - #c.j.p.PhpIndex - Invalid Signature '\\ArrayIterator'\n",
      "2023-06-21 15:17:49,592 [7197580]   WARN - #c.j.p.PhpIndex - Invalid Signature '\\ArrayIterator'\n",
      "2023-06-21 15:17:49,592 [7197580]   WARN - #c.j.p.PhpIndex - Invalid Signature '\\ArrayIterator'\n",
      "2023-06-21 15:17:58,001 [7205989]   WARN - #c.j.p.PhpIndex - Invalid Signature '\\ArrayIterator'\n",
      "2023-06-21 15:17:58,003 [7205991]   WARN - #c.j.p.PhpIndex - Invalid Signature '\\ArrayIterator'\n",
      "2023-06-21 15:18:26,358 [7234346]   WARN - #c.j.p.PhpIndex - Invalid Signature '\\ArrayIterator'\n",
      "2023-06-21 15:18:26,358 [7234346]   WARN - #c.j.p.PhpIndex - Invalid Signature '\\ArrayIterator'\n",
      "2023-06-21 15:21:45,873 [7433861]   WARN - #c.j.p.PhpIndex - Invalid Signature '\\PHPUnit\\Framework\\class-string<#ᢐ\\ExpectedType.>'\n",
      "2023-06-21 15:24:57,934 [7625922]   WARN - #c.j.p.PhpIndex - Invalid Signature '\\PHPUnit\\Framework\\class-string<#ᢐ\\ExpectedType.>'\n",
      "2023-06-21 15:31:55,204 [8043192]   WARN - #c.j.p.PhpIndex - Invalid Signature '\\PHPUnit\\Framework\\class-string<#ᢐ\\ExpectedType.>'\n",
      "2023-06-21 15:35:35,142 [8263130]   WARN - #c.j.p.PhpIndex - Invalid Signature '\\ArrayIterator'\n",
      "2023-06-21 15:35:35,142 [8263130]   WARN - #c.j.p.PhpIndex - Invalid Signature '\\ArrayIterator'\n",
      "2023-06-21 15:36:11,049 [8299037]   WARN - #c.j.p.PhpIndex - Invalid Signature '\\ArrayIterator'\n",
      "2023-06-21 15:37:50,514 [8398502] SEVERE - #c.i.o.a.i.FlushQueue - Exception while applying information to Editor: file:///home/student/PHP22/php_2022_maciej_drewniak/09_laravel_tdd/project/resources/views/bets.blade.php(com.jetbrains.php.blade.BladeFileType@492c08ef)\n",
      "java.lang.RuntimeException: Exception while applying information to Editor: file:///home/student/PHP22/php_2022_maciej_drewniak/09_laravel_tdd/project/resources/views/bets.blade.php(com.jetbrains.php.blade.BladeFileType@492c08ef)\n",
      "\tat com.intellij.codeInsight.daemon.impl.PassExecutorService.lambda$applyInformationToEditorsLater$9(PassExecutorService.java:488)\n",
      "\tat com.intellij.openapi.application.TransactionGuardImpl.runWithWritingAllowed(TransactionGuardImpl.java:209)\n",
      "\tat com.intellij.openapi.application.TransactionGuardImpl.access$100(TransactionGuardImpl.java:21)\n",
      "\tat com.intellij.openapi.application.TransactionGuardImpl$1.run(TransactionGuardImpl.java:191)\n",
      "\tat com.intellij.openapi.application.impl.ApplicationImpl.runIntendedWriteActionOnCurrentThread(ApplicationImpl.java:881)\n",
      "\tat com.intellij.openapi.application.impl.ApplicationImpl$3.run(ApplicationImpl.java:513)\n",
      "\tat com.intellij.openapi.application.impl.FlushQueue.doRun(FlushQueue.java:75)\n",
      "\tat com.intellij.openapi.application.impl.FlushQueue.runNextEvent(FlushQueue.java:118)\n",
      "\tat com.intellij.openapi.application.impl.FlushQueue.flushNow(FlushQueue.java:42)\n",
      "\tat java.desktop/java.awt.event.InvocationEvent.dispatch(InvocationEvent.java:318)\n",
      "\tat java.desktop/java.awt.EventQueue.dispatchEventImpl(EventQueue.java:779)\n",
      "\tat java.desktop/java.awt.EventQueue$4.run(EventQueue.java:730)\n",
      "\tat java.desktop/java.awt.EventQueue$4.run(EventQueue.java:724)\n",
      "\tat java.base/java.security.AccessController.doPrivileged(AccessController.java:399)\n",
      "\tat java.base/java.security.ProtectionDomain$JavaSecurityAccessImpl.doIntersectionPrivilege(ProtectionDomain.java:86)\n",
      "\tat java.desktop/java.awt.EventQueue.dispatchEvent(EventQueue.java:749)\n",
      "\tat com.intellij.ide.IdeEventQueue.defaultDispatchEvent(IdeEventQueue.java:918)\n",
      "\tat com.intellij.ide.IdeEventQueue._dispatchEvent(IdeEventQueue.java:766)\n",
      "\tat com.intellij.ide.IdeEventQueue.lambda$dispatchEvent$6(IdeEventQueue.java:450)\n",
      "\tat com.intellij.openapi.progress.impl.CoreProgressManager.computePrioritized(CoreProgressManager.java:791)\n",
      "\tat com.intellij.ide.IdeEventQueue.lambda$dispatchEvent$7(IdeEventQueue.java:449)\n",
      "\tat com.intellij.openapi.application.TransactionGuardImpl.performActivity(TransactionGuardImpl.java:105)\n",
      "\tat com.intellij.ide.IdeEventQueue.performActivity(IdeEventQueue.java:624)\n",
      "\tat com.intellij.ide.IdeEventQueue.lambda$dispatchEvent$8(IdeEventQueue.java:447)\n",
      "\tat com.intellij.openapi.application.impl.ApplicationImpl.runIntendedWriteActionOnCurrentThread(ApplicationImpl.java:881)\n",
      "\tat com.intellij.ide.IdeEventQueue.dispatchEvent(IdeEventQueue.java:493)\n",
      "\tat java.desktop/java.awt.EventDispatchThread.pumpOneEventForFilters(EventDispatchThread.java:207)\n",
      "\tat java.desktop/java.awt.EventDispatchThread.pumpEventsForFilter(EventDispatchThread.java:128)\n",
      "\tat java.desktop/java.awt.EventDispatchThread.pumpEventsForHierarchy(EventDispatchThread.java:117)\n",
      "\tat java.desktop/java.awt.EventDispatchThread.pumpEvents(EventDispatchThread.java:113)\n",
      "\tat java.desktop/java.awt.EventDispatchThread.pumpEvents(EventDispatchThread.java:105)\n",
      "\tat java.desktop/java.awt.EventDispatchThread.run(EventDispatchThread.java:92)\n",
      "Caused by: java.lang.IllegalArgumentException: Invalid range specified: (8033, 6628); \n",
      "\tat com.intellij.openapi.util.TextRange.assertProperRange(TextRange.java:231)\n",
      "\tat com.intellij.openapi.util.TextRange.assertProperRange(TextRange.java:226)\n",
      "\tat com.intellij.openapi.util.TextRange.assertProperRange(TextRange.java:222)\n",
      "\tat com.intellij.openapi.util.TextRange.<init>(TextRange.java:41)\n",
      "\tat com.intellij.openapi.util.TextRange.<init>(TextRange.java:30)\n",
      "\tat com.intellij.openapi.util.ProperTextRange.<init>(ProperTextRange.java:25)\n",
      "\tat com.intellij.openapi.util.ProperTextRange.create(ProperTextRange.java:78)\n",
      "\tat com.intellij.psi.impl.smartPointers.InjectedSelfElementInfo$AffixOffsets.expandRangeToAffixes(InjectedSelfElementInfo.java:263)\n",
      "\tat com.intellij.psi.impl.smartPointers.InjectedSelfElementInfo.hostToInjected(InjectedSelfElementInfo.java:204)\n",
      "\tat com.intellij.psi.impl.smartPointers.InjectedSelfElementInfo.restoreElement(InjectedSelfElementInfo.java:113)\n",
      "\tat com.intellij.psi.impl.smartPointers.SmartPsiElementPointerImpl.doRestoreElement(SmartPsiElementPointerImpl.java:88)\n",
      "\tat com.intellij.psi.impl.smartPointers.SmartPsiElementPointerImpl.getElement(SmartPsiElementPointerImpl.java:79)\n",
      "\tat com.intellij.codeInsight.folding.impl.EditorFoldingInfo.getPsiElement(EditorFoldingInfo.java:52)\n",
      "\tat com.intellij.codeInsight.folding.impl.UpdateFoldRegionsOperation.lambda$shouldRemoveRegion$1(UpdateFoldRegionsOperation.java:265)\n",
      "\tat com.intellij.util.SlowOperations.allowSlowOperations(SlowOperations.java:143)\n",
      "\tat com.intellij.codeInsight.folding.impl.UpdateFoldRegionsOperation.shouldRemoveRegion(UpdateFoldRegionsOperation.java:265)\n",
      "\tat com.intellij.codeInsight.folding.impl.UpdateFoldRegionsOperation.removeInvalidRegions(UpdateFoldRegionsOperation.java:204)\n",
      "\tat com.intellij.codeInsight.folding.impl.UpdateFoldRegionsOperation.run(UpdateFoldRegionsOperation.java:83)\n",
      "\tat com.intellij.openapi.editor.impl.FoldingModelImpl.runBatchFoldingOperation(FoldingModelImpl.java:282)\n",
      "\tat com.intellij.openapi.editor.impl.FoldingModelImpl.runBatchFoldingOperation(FoldingModelImpl.java:223)\n",
      "\tat com.intellij.openapi.editor.FoldingModel.runBatchFoldingOperationDoNotCollapseCaret(FoldingModel.java:107)\n",
      "\tat com.intellij.codeInsight.folding.impl.FoldingUpdate.lambda$getUpdateResult$1(FoldingUpdate.java:99)\n",
      "\tat com.intellij.codeInsight.folding.impl.CodeFoldingManagerImpl.lambda$updateFoldRegionsAsync$5(CodeFoldingManagerImpl.java:215)\n",
      "\tat com.intellij.codeInsight.daemon.impl.CodeFoldingPass.doApplyInformationToEditor(CodeFoldingPass.java:59)\n",
      "\tat com.intellij.codeHighlighting.TextEditorHighlightingPass.applyInformationToEditor(TextEditorHighlightingPass.java:114)\n",
      "\tat com.intellij.codeInsight.daemon.impl.PassExecutorService.lambda$applyInformationToEditorsLater$9(PassExecutorService.java:468)\n",
      "\t... 31 more\n",
      "2023-06-21 15:37:50,518 [8398506] SEVERE - #c.i.o.a.i.FlushQueue - PhpStorm 2022.2.1  Build #PS-222.3739.61\n",
      "2023-06-21 15:37:50,519 [8398507] SEVERE - #c.i.o.a.i.FlushQueue - JDK: 17.0.3; VM: OpenJDK 64-Bit Server VM; Vendor: JetBrains s.r.o.\n",
      "2023-06-21 15:37:50,519 [8398507] SEVERE - #c.i.o.a.i.FlushQueue - OS: Linux\n"
     ]
    }
   ],
   "source": [
    "! phpstorm project"
   ]
  },
  {
   "cell_type": "markdown",
   "metadata": {},
   "source": [
    "You can test your solution using included tests:"
   ]
  },
  {
   "cell_type": "code",
   "execution_count": 2,
   "metadata": {},
   "outputs": [
    {
     "name": "stdout",
     "output_type": "stream",
     "text": [
      "/home/student/projekt/php_2022_bukmacher/09_laravel_tdd/project\n"
     ]
    }
   ],
   "source": [
    "%cd project"
   ]
  },
  {
   "cell_type": "code",
   "execution_count": 3,
   "metadata": {
    "scrolled": true
   },
   "outputs": [
    {
     "name": "stdout",
     "output_type": "stream",
     "text": [
      "\u001b[32mInstalling dependencies from lock file (including require-dev)\u001b[39m\n",
      "\u001b[32mVerifying lock file contents can be installed on current platform.\u001b[39m\n",
      "Nothing to install, update or remove\n",
      "\u001b[32mGenerating optimized autoload files\u001b[39m\n",
      "> Illuminate\\Foundation\\ComposerScripts::postAutoloadDump\n",
      "> @php artisan package:discover --ansi\n",
      "\n",
      "  \u001b[37;44m INFO \u001b[39;49m Discovering packages.  \n",
      "\n",
      "  graham-campbell/markdown \u001b[90m.\u001b[39m\u001b[90m.\u001b[39m\u001b[90m.\u001b[39m\u001b[90m.\u001b[39m\u001b[90m.\u001b[39m\u001b[90m.\u001b[39m\u001b[90m.\u001b[39m\u001b[90m.\u001b[39m\u001b[90m.\u001b[39m\u001b[90m.\u001b[39m\u001b[90m.\u001b[39m\u001b[90m.\u001b[39m\u001b[90m.\u001b[39m\u001b[90m.\u001b[39m\u001b[90m.\u001b[39m\u001b[90m.\u001b[39m\u001b[90m.\u001b[39m\u001b[90m.\u001b[39m\u001b[90m.\u001b[39m\u001b[90m.\u001b[39m\u001b[90m.\u001b[39m\u001b[90m.\u001b[39m\u001b[90m.\u001b[39m\u001b[90m.\u001b[39m\u001b[90m.\u001b[39m\u001b[90m.\u001b[39m\u001b[90m.\u001b[39m\u001b[90m.\u001b[39m\u001b[90m.\u001b[39m\u001b[90m.\u001b[39m\u001b[90m.\u001b[39m\u001b[90m.\u001b[39m\u001b[90m.\u001b[39m\u001b[90m.\u001b[39m\u001b[90m.\u001b[39m\u001b[90m.\u001b[39m\u001b[90m.\u001b[39m\u001b[90m.\u001b[39m\u001b[90m.\u001b[39m\u001b[90m.\u001b[39m\u001b[90m.\u001b[39m\u001b[90m.\u001b[39m\u001b[90m.\u001b[39m\u001b[90m.\u001b[39m\u001b[90m.\u001b[39m\u001b[90m.\u001b[39m \u001b[32;1mDONE\u001b[39;22m\n",
      "  laravel/breeze \u001b[90m.\u001b[39m\u001b[90m.\u001b[39m\u001b[90m.\u001b[39m\u001b[90m.\u001b[39m\u001b[90m.\u001b[39m\u001b[90m.\u001b[39m\u001b[90m.\u001b[39m\u001b[90m.\u001b[39m\u001b[90m.\u001b[39m\u001b[90m.\u001b[39m\u001b[90m.\u001b[39m\u001b[90m.\u001b[39m\u001b[90m.\u001b[39m\u001b[90m.\u001b[39m\u001b[90m.\u001b[39m\u001b[90m.\u001b[39m\u001b[90m.\u001b[39m\u001b[90m.\u001b[39m\u001b[90m.\u001b[39m\u001b[90m.\u001b[39m\u001b[90m.\u001b[39m\u001b[90m.\u001b[39m\u001b[90m.\u001b[39m\u001b[90m.\u001b[39m\u001b[90m.\u001b[39m\u001b[90m.\u001b[39m\u001b[90m.\u001b[39m\u001b[90m.\u001b[39m\u001b[90m.\u001b[39m\u001b[90m.\u001b[39m\u001b[90m.\u001b[39m\u001b[90m.\u001b[39m\u001b[90m.\u001b[39m\u001b[90m.\u001b[39m\u001b[90m.\u001b[39m\u001b[90m.\u001b[39m\u001b[90m.\u001b[39m\u001b[90m.\u001b[39m\u001b[90m.\u001b[39m\u001b[90m.\u001b[39m\u001b[90m.\u001b[39m\u001b[90m.\u001b[39m\u001b[90m.\u001b[39m\u001b[90m.\u001b[39m\u001b[90m.\u001b[39m\u001b[90m.\u001b[39m\u001b[90m.\u001b[39m\u001b[90m.\u001b[39m\u001b[90m.\u001b[39m\u001b[90m.\u001b[39m\u001b[90m.\u001b[39m\u001b[90m.\u001b[39m\u001b[90m.\u001b[39m\u001b[90m.\u001b[39m\u001b[90m.\u001b[39m\u001b[90m.\u001b[39m \u001b[32;1mDONE\u001b[39;22m\n",
      "  laravel/sail \u001b[90m.\u001b[39m\u001b[90m.\u001b[39m\u001b[90m.\u001b[39m\u001b[90m.\u001b[39m\u001b[90m.\u001b[39m\u001b[90m.\u001b[39m\u001b[90m.\u001b[39m\u001b[90m.\u001b[39m\u001b[90m.\u001b[39m\u001b[90m.\u001b[39m\u001b[90m.\u001b[39m\u001b[90m.\u001b[39m\u001b[90m.\u001b[39m\u001b[90m.\u001b[39m\u001b[90m.\u001b[39m\u001b[90m.\u001b[39m\u001b[90m.\u001b[39m\u001b[90m.\u001b[39m\u001b[90m.\u001b[39m\u001b[90m.\u001b[39m\u001b[90m.\u001b[39m\u001b[90m.\u001b[39m\u001b[90m.\u001b[39m\u001b[90m.\u001b[39m\u001b[90m.\u001b[39m\u001b[90m.\u001b[39m\u001b[90m.\u001b[39m\u001b[90m.\u001b[39m\u001b[90m.\u001b[39m\u001b[90m.\u001b[39m\u001b[90m.\u001b[39m\u001b[90m.\u001b[39m\u001b[90m.\u001b[39m\u001b[90m.\u001b[39m\u001b[90m.\u001b[39m\u001b[90m.\u001b[39m\u001b[90m.\u001b[39m\u001b[90m.\u001b[39m\u001b[90m.\u001b[39m\u001b[90m.\u001b[39m\u001b[90m.\u001b[39m\u001b[90m.\u001b[39m\u001b[90m.\u001b[39m\u001b[90m.\u001b[39m\u001b[90m.\u001b[39m\u001b[90m.\u001b[39m\u001b[90m.\u001b[39m\u001b[90m.\u001b[39m\u001b[90m.\u001b[39m\u001b[90m.\u001b[39m\u001b[90m.\u001b[39m\u001b[90m.\u001b[39m\u001b[90m.\u001b[39m\u001b[90m.\u001b[39m\u001b[90m.\u001b[39m\u001b[90m.\u001b[39m\u001b[90m.\u001b[39m\u001b[90m.\u001b[39m \u001b[32;1mDONE\u001b[39;22m\n",
      "  laravel/sanctum \u001b[90m.\u001b[39m\u001b[90m.\u001b[39m\u001b[90m.\u001b[39m\u001b[90m.\u001b[39m\u001b[90m.\u001b[39m\u001b[90m.\u001b[39m\u001b[90m.\u001b[39m\u001b[90m.\u001b[39m\u001b[90m.\u001b[39m\u001b[90m.\u001b[39m\u001b[90m.\u001b[39m\u001b[90m.\u001b[39m\u001b[90m.\u001b[39m\u001b[90m.\u001b[39m\u001b[90m.\u001b[39m\u001b[90m.\u001b[39m\u001b[90m.\u001b[39m\u001b[90m.\u001b[39m\u001b[90m.\u001b[39m\u001b[90m.\u001b[39m\u001b[90m.\u001b[39m\u001b[90m.\u001b[39m\u001b[90m.\u001b[39m\u001b[90m.\u001b[39m\u001b[90m.\u001b[39m\u001b[90m.\u001b[39m\u001b[90m.\u001b[39m\u001b[90m.\u001b[39m\u001b[90m.\u001b[39m\u001b[90m.\u001b[39m\u001b[90m.\u001b[39m\u001b[90m.\u001b[39m\u001b[90m.\u001b[39m\u001b[90m.\u001b[39m\u001b[90m.\u001b[39m\u001b[90m.\u001b[39m\u001b[90m.\u001b[39m\u001b[90m.\u001b[39m\u001b[90m.\u001b[39m\u001b[90m.\u001b[39m\u001b[90m.\u001b[39m\u001b[90m.\u001b[39m\u001b[90m.\u001b[39m\u001b[90m.\u001b[39m\u001b[90m.\u001b[39m\u001b[90m.\u001b[39m\u001b[90m.\u001b[39m\u001b[90m.\u001b[39m\u001b[90m.\u001b[39m\u001b[90m.\u001b[39m\u001b[90m.\u001b[39m\u001b[90m.\u001b[39m\u001b[90m.\u001b[39m\u001b[90m.\u001b[39m\u001b[90m.\u001b[39m \u001b[32;1mDONE\u001b[39;22m\n",
      "  laravel/tinker \u001b[90m.\u001b[39m\u001b[90m.\u001b[39m\u001b[90m.\u001b[39m\u001b[90m.\u001b[39m\u001b[90m.\u001b[39m\u001b[90m.\u001b[39m\u001b[90m.\u001b[39m\u001b[90m.\u001b[39m\u001b[90m.\u001b[39m\u001b[90m.\u001b[39m\u001b[90m.\u001b[39m\u001b[90m.\u001b[39m\u001b[90m.\u001b[39m\u001b[90m.\u001b[39m\u001b[90m.\u001b[39m\u001b[90m.\u001b[39m\u001b[90m.\u001b[39m\u001b[90m.\u001b[39m\u001b[90m.\u001b[39m\u001b[90m.\u001b[39m\u001b[90m.\u001b[39m\u001b[90m.\u001b[39m\u001b[90m.\u001b[39m\u001b[90m.\u001b[39m\u001b[90m.\u001b[39m\u001b[90m.\u001b[39m\u001b[90m.\u001b[39m\u001b[90m.\u001b[39m\u001b[90m.\u001b[39m\u001b[90m.\u001b[39m\u001b[90m.\u001b[39m\u001b[90m.\u001b[39m\u001b[90m.\u001b[39m\u001b[90m.\u001b[39m\u001b[90m.\u001b[39m\u001b[90m.\u001b[39m\u001b[90m.\u001b[39m\u001b[90m.\u001b[39m\u001b[90m.\u001b[39m\u001b[90m.\u001b[39m\u001b[90m.\u001b[39m\u001b[90m.\u001b[39m\u001b[90m.\u001b[39m\u001b[90m.\u001b[39m\u001b[90m.\u001b[39m\u001b[90m.\u001b[39m\u001b[90m.\u001b[39m\u001b[90m.\u001b[39m\u001b[90m.\u001b[39m\u001b[90m.\u001b[39m\u001b[90m.\u001b[39m\u001b[90m.\u001b[39m\u001b[90m.\u001b[39m\u001b[90m.\u001b[39m\u001b[90m.\u001b[39m\u001b[90m.\u001b[39m \u001b[32;1mDONE\u001b[39;22m\n",
      "  nesbot/carbon \u001b[90m.\u001b[39m\u001b[90m.\u001b[39m\u001b[90m.\u001b[39m\u001b[90m.\u001b[39m\u001b[90m.\u001b[39m\u001b[90m.\u001b[39m\u001b[90m.\u001b[39m\u001b[90m.\u001b[39m\u001b[90m.\u001b[39m\u001b[90m.\u001b[39m\u001b[90m.\u001b[39m\u001b[90m.\u001b[39m\u001b[90m.\u001b[39m\u001b[90m.\u001b[39m\u001b[90m.\u001b[39m\u001b[90m.\u001b[39m\u001b[90m.\u001b[39m\u001b[90m.\u001b[39m\u001b[90m.\u001b[39m\u001b[90m.\u001b[39m\u001b[90m.\u001b[39m\u001b[90m.\u001b[39m\u001b[90m.\u001b[39m\u001b[90m.\u001b[39m\u001b[90m.\u001b[39m\u001b[90m.\u001b[39m\u001b[90m.\u001b[39m\u001b[90m.\u001b[39m\u001b[90m.\u001b[39m\u001b[90m.\u001b[39m\u001b[90m.\u001b[39m\u001b[90m.\u001b[39m\u001b[90m.\u001b[39m\u001b[90m.\u001b[39m\u001b[90m.\u001b[39m\u001b[90m.\u001b[39m\u001b[90m.\u001b[39m\u001b[90m.\u001b[39m\u001b[90m.\u001b[39m\u001b[90m.\u001b[39m\u001b[90m.\u001b[39m\u001b[90m.\u001b[39m\u001b[90m.\u001b[39m\u001b[90m.\u001b[39m\u001b[90m.\u001b[39m\u001b[90m.\u001b[39m\u001b[90m.\u001b[39m\u001b[90m.\u001b[39m\u001b[90m.\u001b[39m\u001b[90m.\u001b[39m\u001b[90m.\u001b[39m\u001b[90m.\u001b[39m\u001b[90m.\u001b[39m\u001b[90m.\u001b[39m\u001b[90m.\u001b[39m\u001b[90m.\u001b[39m\u001b[90m.\u001b[39m \u001b[32;1mDONE\u001b[39;22m\n",
      "  nunomaduro/collision \u001b[90m.\u001b[39m\u001b[90m.\u001b[39m\u001b[90m.\u001b[39m\u001b[90m.\u001b[39m\u001b[90m.\u001b[39m\u001b[90m.\u001b[39m\u001b[90m.\u001b[39m\u001b[90m.\u001b[39m\u001b[90m.\u001b[39m\u001b[90m.\u001b[39m\u001b[90m.\u001b[39m\u001b[90m.\u001b[39m\u001b[90m.\u001b[39m\u001b[90m.\u001b[39m\u001b[90m.\u001b[39m\u001b[90m.\u001b[39m\u001b[90m.\u001b[39m\u001b[90m.\u001b[39m\u001b[90m.\u001b[39m\u001b[90m.\u001b[39m\u001b[90m.\u001b[39m\u001b[90m.\u001b[39m\u001b[90m.\u001b[39m\u001b[90m.\u001b[39m\u001b[90m.\u001b[39m\u001b[90m.\u001b[39m\u001b[90m.\u001b[39m\u001b[90m.\u001b[39m\u001b[90m.\u001b[39m\u001b[90m.\u001b[39m\u001b[90m.\u001b[39m\u001b[90m.\u001b[39m\u001b[90m.\u001b[39m\u001b[90m.\u001b[39m\u001b[90m.\u001b[39m\u001b[90m.\u001b[39m\u001b[90m.\u001b[39m\u001b[90m.\u001b[39m\u001b[90m.\u001b[39m\u001b[90m.\u001b[39m\u001b[90m.\u001b[39m\u001b[90m.\u001b[39m\u001b[90m.\u001b[39m\u001b[90m.\u001b[39m\u001b[90m.\u001b[39m\u001b[90m.\u001b[39m\u001b[90m.\u001b[39m\u001b[90m.\u001b[39m\u001b[90m.\u001b[39m\u001b[90m.\u001b[39m \u001b[32;1mDONE\u001b[39;22m\n",
      "  nunomaduro/termwind \u001b[90m.\u001b[39m\u001b[90m.\u001b[39m\u001b[90m.\u001b[39m\u001b[90m.\u001b[39m\u001b[90m.\u001b[39m\u001b[90m.\u001b[39m\u001b[90m.\u001b[39m\u001b[90m.\u001b[39m\u001b[90m.\u001b[39m\u001b[90m.\u001b[39m\u001b[90m.\u001b[39m\u001b[90m.\u001b[39m\u001b[90m.\u001b[39m\u001b[90m.\u001b[39m\u001b[90m.\u001b[39m\u001b[90m.\u001b[39m\u001b[90m.\u001b[39m\u001b[90m.\u001b[39m\u001b[90m.\u001b[39m\u001b[90m.\u001b[39m\u001b[90m.\u001b[39m\u001b[90m.\u001b[39m\u001b[90m.\u001b[39m\u001b[90m.\u001b[39m\u001b[90m.\u001b[39m\u001b[90m.\u001b[39m\u001b[90m.\u001b[39m\u001b[90m.\u001b[39m\u001b[90m.\u001b[39m\u001b[90m.\u001b[39m\u001b[90m.\u001b[39m\u001b[90m.\u001b[39m\u001b[90m.\u001b[39m\u001b[90m.\u001b[39m\u001b[90m.\u001b[39m\u001b[90m.\u001b[39m\u001b[90m.\u001b[39m\u001b[90m.\u001b[39m\u001b[90m.\u001b[39m\u001b[90m.\u001b[39m\u001b[90m.\u001b[39m\u001b[90m.\u001b[39m\u001b[90m.\u001b[39m\u001b[90m.\u001b[39m\u001b[90m.\u001b[39m\u001b[90m.\u001b[39m\u001b[90m.\u001b[39m\u001b[90m.\u001b[39m\u001b[90m.\u001b[39m\u001b[90m.\u001b[39m\u001b[90m.\u001b[39m \u001b[32;1mDONE\u001b[39;22m\n",
      "  spatie/laravel-ignition \u001b[90m.\u001b[39m\u001b[90m.\u001b[39m\u001b[90m.\u001b[39m\u001b[90m.\u001b[39m\u001b[90m.\u001b[39m\u001b[90m.\u001b[39m\u001b[90m.\u001b[39m\u001b[90m.\u001b[39m\u001b[90m.\u001b[39m\u001b[90m.\u001b[39m\u001b[90m.\u001b[39m\u001b[90m.\u001b[39m\u001b[90m.\u001b[39m\u001b[90m.\u001b[39m\u001b[90m.\u001b[39m\u001b[90m.\u001b[39m\u001b[90m.\u001b[39m\u001b[90m.\u001b[39m\u001b[90m.\u001b[39m\u001b[90m.\u001b[39m\u001b[90m.\u001b[39m\u001b[90m.\u001b[39m\u001b[90m.\u001b[39m\u001b[90m.\u001b[39m\u001b[90m.\u001b[39m\u001b[90m.\u001b[39m\u001b[90m.\u001b[39m\u001b[90m.\u001b[39m\u001b[90m.\u001b[39m\u001b[90m.\u001b[39m\u001b[90m.\u001b[39m\u001b[90m.\u001b[39m\u001b[90m.\u001b[39m\u001b[90m.\u001b[39m\u001b[90m.\u001b[39m\u001b[90m.\u001b[39m\u001b[90m.\u001b[39m\u001b[90m.\u001b[39m\u001b[90m.\u001b[39m\u001b[90m.\u001b[39m\u001b[90m.\u001b[39m\u001b[90m.\u001b[39m\u001b[90m.\u001b[39m\u001b[90m.\u001b[39m\u001b[90m.\u001b[39m\u001b[90m.\u001b[39m\u001b[90m.\u001b[39m \u001b[32;1mDONE\u001b[39;22m\n",
      "\n",
      "\u001b[32m97 packages you are using are looking for funding.\u001b[39m\n",
      "\u001b[32mUse the `composer fund` command to find out more!\u001b[39m\n"
     ]
    }
   ],
   "source": [
    "! composer install"
   ]
  },
  {
   "cell_type": "code",
   "execution_count": 5,
   "metadata": {},
   "outputs": [
    {
     "name": "stdout",
     "output_type": "stream",
     "text": [
      "\u001b[32mBuilding Actor classes for suites: Acceptance\u001b[39m\n",
      " -> AcceptanceTesterActions.php generated successfully. 220 methods added\n",
      "\u001b[32mTestsCodeception\\AcceptanceTester\u001b[39m includes modules: Asserts, PhpBrowser, Db\n"
     ]
    }
   ],
   "source": [
    "! vendor/bin/codecept build"
   ]
  },
  {
   "cell_type": "code",
   "execution_count": 6,
   "metadata": {},
   "outputs": [
    {
     "name": "stdout",
     "output_type": "stream",
     "text": [
      "Loaded config \u001b[33mdefault\u001b[39m from \"/home/student/projekt/php_2022_bukmacher/09_laravel_tdd/project/./.php-cs-fixer.dist.php\".\n",
      "Using cache file \".php-cs-fixer.cache\".\n",
      "\n",
      "Found 0 of 180 files that can be fixed in 0.018 seconds, 20.000 MB memory used\n"
     ]
    }
   ],
   "source": [
    "! vendor/bin/php-cs-fixer fix --diff --dry-run ."
   ]
  },
  {
   "cell_type": "code",
   "execution_count": 7,
   "metadata": {},
   "outputs": [
    {
     "name": "stdout",
     "output_type": "stream",
     "text": [
      "\n",
      "\u001b[33m ! [NOTE] The Xdebug PHP extension is active, but \"--xdebug\" is not used. This  \u001b[39m\n",
      "\u001b[33m !        may slow down performance and the process will not halt at            \u001b[39m\n",
      "\u001b[33m !        breakpoints.                                                          \u001b[39m\n",
      "\n",
      "   0/123 [░░░░░░░░░░░░░░░░░░░░░░░░░░░░]   0%\u001b[1G\u001b[2K  20/123 [▓▓▓▓░░░░░░░░░░░░░░░░░░░░░░░░]  16%\u001b[1G\u001b[2K  40/123 [▓▓▓▓▓▓▓▓▓░░░░░░░░░░░░░░░░░░░]  32%\u001b[1G\u001b[2K  60/123 [▓▓▓▓▓▓▓▓▓▓▓▓▓░░░░░░░░░░░░░░░]  48%\u001b[1G\u001b[2K  80/123 [▓▓▓▓▓▓▓▓▓▓▓▓▓▓▓▓▓▓░░░░░░░░░░]  65%\u001b[1G\u001b[2K 103/123 [▓▓▓▓▓▓▓▓▓▓▓▓▓▓▓▓▓▓▓▓▓▓▓░░░░░]  83%\u001b[1G\u001b[2K 123/123 [▓▓▓▓▓▓▓▓▓▓▓▓▓▓▓▓▓▓▓▓▓▓▓▓▓▓▓▓] 100%\n",
      "\n",
      "\n",
      "\u001b[30;42m                                                                                \u001b[39;49m\n",
      "\u001b[30;42m [OK] No errors                                                                 \u001b[39;49m\n",
      "\u001b[30;42m                                                                                \u001b[39;49m\n",
      "\n"
     ]
    }
   ],
   "source": [
    "! vendor/bin/phpstan analyze -c phpstan.neon"
   ]
  },
  {
   "cell_type": "code",
   "execution_count": null,
   "metadata": {},
   "outputs": [],
   "source": [
    "! vendor/bin/phpcpd . --fuzzy --min-lines 1 --min-tokens 20 --exclude vendor --exclude tests* --exclude config --exclude storage"
   ]
  },
  {
   "cell_type": "code",
   "execution_count": null,
   "metadata": {},
   "outputs": [],
   "source": [
    "! cp .env.example .env"
   ]
  },
  {
   "cell_type": "code",
   "execution_count": 8,
   "metadata": {
    "scrolled": true
   },
   "outputs": [
    {
     "name": "stdout",
     "output_type": "stream",
     "text": [
      "\r\n",
      "  \u001b[37;44m INFO \u001b[39;49m Application key set successfully.  \r\n",
      "\r\n"
     ]
    }
   ],
   "source": [
    "! php artisan key:generate"
   ]
  },
  {
   "cell_type": "code",
   "execution_count": 14,
   "metadata": {},
   "outputs": [
    {
     "name": "stdout",
     "output_type": "stream",
     "text": [
      "\n",
      "  Dropping all tables \u001b[90m.\u001b[39m\u001b[90m.\u001b[39m\u001b[90m.\u001b[39m\u001b[90m.\u001b[39m\u001b[90m.\u001b[39m\u001b[90m.\u001b[39m\u001b[90m.\u001b[39m\u001b[90m.\u001b[39m\u001b[90m.\u001b[39m\u001b[90m.\u001b[39m\u001b[90m.\u001b[39m\u001b[90m.\u001b[39m\u001b[90m.\u001b[39m\u001b[90m.\u001b[39m\u001b[90m.\u001b[39m\u001b[90m.\u001b[39m\u001b[90m.\u001b[39m\u001b[90m.\u001b[39m\u001b[90m.\u001b[39m\u001b[90m.\u001b[39m\u001b[90m.\u001b[39m\u001b[90m.\u001b[39m\u001b[90m.\u001b[39m\u001b[90m.\u001b[39m\u001b[90m.\u001b[39m\u001b[90m.\u001b[39m\u001b[90m.\u001b[39m\u001b[90m.\u001b[39m\u001b[90m.\u001b[39m\u001b[90m.\u001b[39m\u001b[90m.\u001b[39m\u001b[90m.\u001b[39m\u001b[90m.\u001b[39m\u001b[90m.\u001b[39m\u001b[90m.\u001b[39m\u001b[90m.\u001b[39m\u001b[90m.\u001b[39m\u001b[90m.\u001b[39m\u001b[90m.\u001b[39m\u001b[90m.\u001b[39m\u001b[90m.\u001b[39m\u001b[90m.\u001b[39m\u001b[90m.\u001b[39m\u001b[90m.\u001b[39m\u001b[90m.\u001b[39m\u001b[90m 881ms\u001b[39m \u001b[32;1mDONE\u001b[39;22m\n",
      "\n",
      "  \u001b[37;44m INFO \u001b[39;49m Preparing database.  \n",
      "\n",
      "  Creating migration table \u001b[90m.\u001b[39m\u001b[90m.\u001b[39m\u001b[90m.\u001b[39m\u001b[90m.\u001b[39m\u001b[90m.\u001b[39m\u001b[90m.\u001b[39m\u001b[90m.\u001b[39m\u001b[90m.\u001b[39m\u001b[90m.\u001b[39m\u001b[90m.\u001b[39m\u001b[90m.\u001b[39m\u001b[90m.\u001b[39m\u001b[90m.\u001b[39m\u001b[90m.\u001b[39m\u001b[90m.\u001b[39m\u001b[90m.\u001b[39m\u001b[90m.\u001b[39m\u001b[90m.\u001b[39m\u001b[90m.\u001b[39m\u001b[90m.\u001b[39m\u001b[90m.\u001b[39m\u001b[90m.\u001b[39m\u001b[90m.\u001b[39m\u001b[90m.\u001b[39m\u001b[90m.\u001b[39m\u001b[90m.\u001b[39m\u001b[90m.\u001b[39m\u001b[90m.\u001b[39m\u001b[90m.\u001b[39m\u001b[90m.\u001b[39m\u001b[90m.\u001b[39m\u001b[90m.\u001b[39m\u001b[90m.\u001b[39m\u001b[90m.\u001b[39m\u001b[90m.\u001b[39m\u001b[90m.\u001b[39m\u001b[90m.\u001b[39m\u001b[90m.\u001b[39m\u001b[90m.\u001b[39m\u001b[90m.\u001b[39m\u001b[90m 318ms\u001b[39m \u001b[32;1mDONE\u001b[39;22m\n",
      "\n",
      "  \u001b[37;44m INFO \u001b[39;49m Running migrations.  \n",
      "\n",
      "  2014_10_12_000000_create_users_table \u001b[90m.\u001b[39m\u001b[90m.\u001b[39m\u001b[90m.\u001b[39m\u001b[90m.\u001b[39m\u001b[90m.\u001b[39m\u001b[90m.\u001b[39m\u001b[90m.\u001b[39m\u001b[90m.\u001b[39m\u001b[90m.\u001b[39m\u001b[90m.\u001b[39m\u001b[90m.\u001b[39m\u001b[90m.\u001b[39m\u001b[90m.\u001b[39m\u001b[90m.\u001b[39m\u001b[90m.\u001b[39m\u001b[90m.\u001b[39m\u001b[90m.\u001b[39m\u001b[90m.\u001b[39m\u001b[90m.\u001b[39m\u001b[90m.\u001b[39m\u001b[90m.\u001b[39m\u001b[90m.\u001b[39m\u001b[90m.\u001b[39m\u001b[90m.\u001b[39m\u001b[90m.\u001b[39m\u001b[90m.\u001b[39m\u001b[90m.\u001b[39m\u001b[90m.\u001b[39m\u001b[90m 623ms\u001b[39m \u001b[32;1mDONE\u001b[39;22m\n",
      "  2014_10_12_100000_create_password_resets_table \u001b[90m.\u001b[39m\u001b[90m.\u001b[39m\u001b[90m.\u001b[39m\u001b[90m.\u001b[39m\u001b[90m.\u001b[39m\u001b[90m.\u001b[39m\u001b[90m.\u001b[39m\u001b[90m.\u001b[39m\u001b[90m.\u001b[39m\u001b[90m.\u001b[39m\u001b[90m.\u001b[39m\u001b[90m.\u001b[39m\u001b[90m.\u001b[39m\u001b[90m.\u001b[39m\u001b[90m.\u001b[39m\u001b[90m.\u001b[39m\u001b[90m.\u001b[39m\u001b[90m.\u001b[39m\u001b[90m 255ms\u001b[39m \u001b[32;1mDONE\u001b[39;22m\n",
      "  2019_08_19_000000_create_failed_jobs_table \u001b[90m.\u001b[39m\u001b[90m.\u001b[39m\u001b[90m.\u001b[39m\u001b[90m.\u001b[39m\u001b[90m.\u001b[39m\u001b[90m.\u001b[39m\u001b[90m.\u001b[39m\u001b[90m.\u001b[39m\u001b[90m.\u001b[39m\u001b[90m.\u001b[39m\u001b[90m.\u001b[39m\u001b[90m.\u001b[39m\u001b[90m.\u001b[39m\u001b[90m.\u001b[39m\u001b[90m.\u001b[39m\u001b[90m.\u001b[39m\u001b[90m.\u001b[39m\u001b[90m.\u001b[39m\u001b[90m.\u001b[39m\u001b[90m.\u001b[39m\u001b[90m.\u001b[39m\u001b[90m.\u001b[39m\u001b[90m 265ms\u001b[39m \u001b[32;1mDONE\u001b[39;22m\n",
      "  2019_12_14_000001_create_personal_access_tokens_table \u001b[90m.\u001b[39m\u001b[90m.\u001b[39m\u001b[90m.\u001b[39m\u001b[90m.\u001b[39m\u001b[90m.\u001b[39m\u001b[90m.\u001b[39m\u001b[90m.\u001b[39m\u001b[90m.\u001b[39m\u001b[90m.\u001b[39m\u001b[90m.\u001b[39m\u001b[90m.\u001b[39m\u001b[90m 368ms\u001b[39m \u001b[32;1mDONE\u001b[39;22m\n",
      "  2023_01_08_104417_create_premiums_table \u001b[90m.\u001b[39m\u001b[90m.\u001b[39m\u001b[90m.\u001b[39m\u001b[90m.\u001b[39m\u001b[90m.\u001b[39m\u001b[90m.\u001b[39m\u001b[90m.\u001b[39m\u001b[90m.\u001b[39m\u001b[90m.\u001b[39m\u001b[90m.\u001b[39m\u001b[90m.\u001b[39m\u001b[90m.\u001b[39m\u001b[90m.\u001b[39m\u001b[90m.\u001b[39m\u001b[90m.\u001b[39m\u001b[90m.\u001b[39m\u001b[90m.\u001b[39m\u001b[90m.\u001b[39m\u001b[90m.\u001b[39m\u001b[90m.\u001b[39m\u001b[90m.\u001b[39m\u001b[90m.\u001b[39m\u001b[90m.\u001b[39m\u001b[90m.\u001b[39m\u001b[90m.\u001b[39m\u001b[90m 162ms\u001b[39m \u001b[32;1mDONE\u001b[39;22m\n",
      "  2023_01_08_105019_create_events_table \u001b[90m.\u001b[39m\u001b[90m.\u001b[39m\u001b[90m.\u001b[39m\u001b[90m.\u001b[39m\u001b[90m.\u001b[39m\u001b[90m.\u001b[39m\u001b[90m.\u001b[39m\u001b[90m.\u001b[39m\u001b[90m.\u001b[39m\u001b[90m.\u001b[39m\u001b[90m.\u001b[39m\u001b[90m.\u001b[39m\u001b[90m.\u001b[39m\u001b[90m.\u001b[39m\u001b[90m.\u001b[39m\u001b[90m.\u001b[39m\u001b[90m.\u001b[39m\u001b[90m.\u001b[39m\u001b[90m.\u001b[39m\u001b[90m.\u001b[39m\u001b[90m.\u001b[39m\u001b[90m.\u001b[39m\u001b[90m.\u001b[39m\u001b[90m.\u001b[39m\u001b[90m.\u001b[39m\u001b[90m.\u001b[39m\u001b[90m.\u001b[39m\u001b[90m 169ms\u001b[39m \u001b[32;1mDONE\u001b[39;22m\n",
      "  2023_01_08_105454_create_odds_table \u001b[90m.\u001b[39m\u001b[90m.\u001b[39m\u001b[90m.\u001b[39m\u001b[90m.\u001b[39m\u001b[90m.\u001b[39m\u001b[90m.\u001b[39m\u001b[90m.\u001b[39m\u001b[90m.\u001b[39m\u001b[90m.\u001b[39m\u001b[90m.\u001b[39m\u001b[90m.\u001b[39m\u001b[90m.\u001b[39m\u001b[90m.\u001b[39m\u001b[90m.\u001b[39m\u001b[90m.\u001b[39m\u001b[90m.\u001b[39m\u001b[90m.\u001b[39m\u001b[90m.\u001b[39m\u001b[90m.\u001b[39m\u001b[90m.\u001b[39m\u001b[90m.\u001b[39m\u001b[90m.\u001b[39m\u001b[90m.\u001b[39m\u001b[90m.\u001b[39m\u001b[90m.\u001b[39m\u001b[90m.\u001b[39m\u001b[90m.\u001b[39m\u001b[90m.\u001b[39m\u001b[90m.\u001b[39m\u001b[90m 153ms\u001b[39m \u001b[32;1mDONE\u001b[39;22m\n",
      "  2023_01_08_105842_create_specials_table \u001b[90m.\u001b[39m\u001b[90m.\u001b[39m\u001b[90m.\u001b[39m\u001b[90m.\u001b[39m\u001b[90m.\u001b[39m\u001b[90m.\u001b[39m\u001b[90m.\u001b[39m\u001b[90m.\u001b[39m\u001b[90m.\u001b[39m\u001b[90m.\u001b[39m\u001b[90m.\u001b[39m\u001b[90m.\u001b[39m\u001b[90m.\u001b[39m\u001b[90m.\u001b[39m\u001b[90m.\u001b[39m\u001b[90m.\u001b[39m\u001b[90m.\u001b[39m\u001b[90m.\u001b[39m\u001b[90m.\u001b[39m\u001b[90m.\u001b[39m\u001b[90m.\u001b[39m\u001b[90m.\u001b[39m\u001b[90m.\u001b[39m\u001b[90m.\u001b[39m\u001b[90m.\u001b[39m\u001b[90m.\u001b[39m\u001b[90m 98ms\u001b[39m \u001b[32;1mDONE\u001b[39;22m\n",
      "  2023_01_11_140011_create_blik_codes_table \u001b[90m.\u001b[39m\u001b[90m.\u001b[39m\u001b[90m.\u001b[39m\u001b[90m.\u001b[39m\u001b[90m.\u001b[39m\u001b[90m.\u001b[39m\u001b[90m.\u001b[39m\u001b[90m.\u001b[39m\u001b[90m.\u001b[39m\u001b[90m.\u001b[39m\u001b[90m.\u001b[39m\u001b[90m.\u001b[39m\u001b[90m.\u001b[39m\u001b[90m.\u001b[39m\u001b[90m.\u001b[39m\u001b[90m.\u001b[39m\u001b[90m.\u001b[39m\u001b[90m.\u001b[39m\u001b[90m.\u001b[39m\u001b[90m.\u001b[39m\u001b[90m.\u001b[39m\u001b[90m.\u001b[39m\u001b[90m.\u001b[39m\u001b[90m.\u001b[39m\u001b[90m 92ms\u001b[39m \u001b[32;1mDONE\u001b[39;22m\n",
      "  2023_01_11_142420_create_tests_table \u001b[90m.\u001b[39m\u001b[90m.\u001b[39m\u001b[90m.\u001b[39m\u001b[90m.\u001b[39m\u001b[90m.\u001b[39m\u001b[90m.\u001b[39m\u001b[90m.\u001b[39m\u001b[90m.\u001b[39m\u001b[90m.\u001b[39m\u001b[90m.\u001b[39m\u001b[90m.\u001b[39m\u001b[90m.\u001b[39m\u001b[90m.\u001b[39m\u001b[90m.\u001b[39m\u001b[90m.\u001b[39m\u001b[90m.\u001b[39m\u001b[90m.\u001b[39m\u001b[90m.\u001b[39m\u001b[90m.\u001b[39m\u001b[90m.\u001b[39m\u001b[90m.\u001b[39m\u001b[90m.\u001b[39m\u001b[90m.\u001b[39m\u001b[90m.\u001b[39m\u001b[90m.\u001b[39m\u001b[90m.\u001b[39m\u001b[90m.\u001b[39m\u001b[90m.\u001b[39m\u001b[90m 275ms\u001b[39m \u001b[32;1mDONE\u001b[39;22m\n",
      "  2023_01_11_173825_create_bets_table \u001b[90m.\u001b[39m\u001b[90m.\u001b[39m\u001b[90m.\u001b[39m\u001b[90m.\u001b[39m\u001b[90m.\u001b[39m\u001b[90m.\u001b[39m\u001b[90m.\u001b[39m\u001b[90m.\u001b[39m\u001b[90m.\u001b[39m\u001b[90m.\u001b[39m\u001b[90m.\u001b[39m\u001b[90m.\u001b[39m\u001b[90m.\u001b[39m\u001b[90m.\u001b[39m\u001b[90m.\u001b[39m\u001b[90m.\u001b[39m\u001b[90m.\u001b[39m\u001b[90m.\u001b[39m\u001b[90m.\u001b[39m\u001b[90m.\u001b[39m\u001b[90m.\u001b[39m\u001b[90m.\u001b[39m\u001b[90m.\u001b[39m\u001b[90m.\u001b[39m\u001b[90m.\u001b[39m\u001b[90m.\u001b[39m\u001b[90m.\u001b[39m\u001b[90m.\u001b[39m\u001b[90m.\u001b[39m\u001b[90m 143ms\u001b[39m \u001b[32;1mDONE\u001b[39;22m\n",
      "  2023_01_11_194743_make_bet_events_table \u001b[90m.\u001b[39m\u001b[90m.\u001b[39m\u001b[90m.\u001b[39m\u001b[90m.\u001b[39m\u001b[90m.\u001b[39m\u001b[90m.\u001b[39m\u001b[90m.\u001b[39m\u001b[90m.\u001b[39m\u001b[90m.\u001b[39m\u001b[90m.\u001b[39m\u001b[90m.\u001b[39m\u001b[90m.\u001b[39m\u001b[90m.\u001b[39m\u001b[90m.\u001b[39m\u001b[90m.\u001b[39m\u001b[90m.\u001b[39m\u001b[90m.\u001b[39m\u001b[90m.\u001b[39m\u001b[90m.\u001b[39m\u001b[90m.\u001b[39m\u001b[90m.\u001b[39m\u001b[90m.\u001b[39m\u001b[90m.\u001b[39m\u001b[90m.\u001b[39m\u001b[90m.\u001b[39m\u001b[90m 164ms\u001b[39m \u001b[32;1mDONE\u001b[39;22m\n",
      "\n"
     ]
    }
   ],
   "source": [
    "! php artisan migrate:fresh"
   ]
  },
  {
   "cell_type": "code",
   "execution_count": 15,
   "metadata": {},
   "outputs": [
    {
     "name": "stdout",
     "output_type": "stream",
     "text": [
      "\n",
      "  \u001b[37;44m INFO \u001b[39;49m Seeding database.  \n",
      "\n",
      "  Database\\Seeders\\UsersSeeder \u001b[90m.......................................\u001b[39m \u001b[33;1mRUNNING\u001b[39;22m  \n",
      "  Database\\Seeders\\UsersSeeder \u001b[90m..............................\u001b[39m \u001b[90m2,923.09 ms\u001b[39m \u001b[32;1mDONE\u001b[39;22m  \n",
      "\n",
      "  Database\\Seeders\\SpecialEventsSeeder \u001b[90m...............................\u001b[39m \u001b[33;1mRUNNING\u001b[39;22m  \n",
      "  Database\\Seeders\\SpecialEventsSeeder \u001b[90m........................\u001b[39m \u001b[90m550.26 ms\u001b[39m \u001b[32;1mDONE\u001b[39;22m  \n",
      "\n",
      "  Database\\Seeders\\EventsSeeder \u001b[90m......................................\u001b[39m \u001b[33;1mRUNNING\u001b[39;22m  \n",
      "  Database\\Seeders\\EventsSeeder \u001b[90m...............................\u001b[39m \u001b[90m592.32 ms\u001b[39m \u001b[32;1mDONE\u001b[39;22m  \n",
      "\n",
      "  Database\\Seeders\\BlikCodesSeeder \u001b[90m...................................\u001b[39m \u001b[33;1mRUNNING\u001b[39;22m  \n",
      "  Database\\Seeders\\BlikCodesSeeder \u001b[90m............................\u001b[39m \u001b[90m242.68 ms\u001b[39m \u001b[32;1mDONE\u001b[39;22m  \n",
      "\n",
      "  Database\\Seeders\\BetEventsSeeder \u001b[90m...................................\u001b[39m \u001b[33;1mRUNNING\u001b[39;22m  \n",
      "  Database\\Seeders\\BetEventsSeeder \u001b[90m............................\u001b[39m \u001b[90m513.43 ms\u001b[39m \u001b[32;1mDONE\u001b[39;22m  \n",
      "\n",
      "  Database\\Seeders\\BetsSeeder \u001b[90m........................................\u001b[39m \u001b[33;1mRUNNING\u001b[39;22m  \n",
      "  Database\\Seeders\\BetsSeeder \u001b[90m.................................\u001b[39m \u001b[90m193.32 ms\u001b[39m \u001b[32;1mDONE\u001b[39;22m  \n",
      "\n"
     ]
    }
   ],
   "source": [
    "! php artisan db:seed"
   ]
  },
  {
   "cell_type": "code",
   "execution_count": 11,
   "metadata": {},
   "outputs": [
    {
     "name": "stdout",
     "output_type": "stream",
     "text": [
      "mysqldump: [Warning] Using a password on the command line interface can be insecure.\r\n"
     ]
    }
   ],
   "source": [
    "! mysqldump -h127.0.0.1 -u root --password=root123 test > tests_codeception/_data/dump.sql"
   ]
  },
  {
   "cell_type": "code",
   "execution_count": 12,
   "metadata": {},
   "outputs": [
    {
     "name": "stdout",
     "output_type": "stream",
     "text": [
      "\u001b[K\u001b[?25hm##################\u001b[0m) ⠴ reify:@esbuild/android-arm: \u001b[32;40mtiming\u001b[0m \u001b[35mreifyNode:node_module\u001b[0m\u001b[K\u001b[0m\u001b[K\n",
      "up to date, audited 94 packages in 3s\n",
      "\n",
      "20 packages are looking for funding\n",
      "  run `npm fund` for details\n",
      "\n",
      "found \u001b[32m\u001b[1m0\u001b[22m\u001b[39m vulnerabilities\n"
     ]
    }
   ],
   "source": [
    "! npm install"
   ]
  },
  {
   "cell_type": "code",
   "execution_count": 13,
   "metadata": {},
   "outputs": [
    {
     "name": "stdout",
     "output_type": "stream",
     "text": [
      "\n",
      "> build\n",
      "> vite build\n",
      "\n",
      "\u001b[36mvite v3.2.4 \u001b[32mbuilding for production...\u001b[36m\u001b[39m\n",
      "\u001b[2K\u001b[1Gtransforming (1) \u001b[2mresources/js/app.js\u001b[22m\u001b[2K\u001b[1Gtransforming (4) \u001b[2mnode_modules/axios/index.js\u001b[22m\u001b[2K\u001b[1Gtransforming (8) \u001b[2mnode_modules/axios/lib/axios.js\u001b[22m\u001b[2K\u001b[1Gtransforming (10) \u001b[2mnode_modules/axios/lib/utils.js\u001b[22m\u001b[2K\u001b[1Gtransforming (35) \u001b[2mnode_modules/axios/lib/helpers/combineURLs.js\u001b[22m\u001b[2K\u001b[1G\u001b[32m✓\u001b[39m 49 modules transformed.\n",
      "\u001b[2K\u001b[1Grendering chunks (1)...\u001b[2K\u001b[1Grendering chunks (2)...\u001b[2K\u001b[1G\u001b[90m\u001b[37m\u001b[2mpublic/build/\u001b[22m\u001b[90m\u001b[39m\u001b[32mmanifest.json            \u001b[39m \u001b[2m0.25 KiB\u001b[22m\n",
      "\u001b[90m\u001b[37m\u001b[2mpublic/build/\u001b[22m\u001b[90m\u001b[39m\u001b[35massets/app.7ff6310d.css  \u001b[39m \u001b[2m26.84 KiB / gzip: 5.31 KiB\u001b[22m\n",
      "\u001b[90m\u001b[37m\u001b[2mpublic/build/\u001b[22m\u001b[90m\u001b[39m\u001b[36massets/app.d426e523.js   \u001b[39m \u001b[2m135.11 KiB / gzip: 49.03 KiB\u001b[22m\n"
     ]
    }
   ],
   "source": [
    "! npm run build"
   ]
  },
  {
   "cell_type": "code",
   "execution_count": null,
   "metadata": {},
   "outputs": [],
   "source": [
    "! php artisan test"
   ]
  },
  {
   "cell_type": "code",
   "execution_count": null,
   "metadata": {},
   "outputs": [],
   "source": [
    "import subprocess\n",
    "artisanServe = subprocess.Popen(['php', 'artisan', 'serve', '--port', '8888'])"
   ]
  },
  {
   "cell_type": "code",
   "execution_count": null,
   "metadata": {},
   "outputs": [],
   "source": [
    "! vendor/bin/codecept run"
   ]
  },
  {
   "cell_type": "code",
   "execution_count": null,
   "metadata": {},
   "outputs": [],
   "source": [
    "! killall php php8.1"
   ]
  },
  {
   "cell_type": "code",
   "execution_count": null,
   "metadata": {},
   "outputs": [],
   "source": [
    "%cd .."
   ]
  },
  {
   "cell_type": "markdown",
   "metadata": {},
   "source": [
    "Stop database:"
   ]
  },
  {
   "cell_type": "code",
   "execution_count": null,
   "metadata": {},
   "outputs": [],
   "source": [
    "! docker container stop mysql"
   ]
  },
  {
   "cell_type": "code",
   "execution_count": null,
   "metadata": {},
   "outputs": [],
   "source": []
  }
 ],
 "metadata": {
  "kernelspec": {
   "display_name": "Python 3 (ipykernel)",
   "language": "python",
   "name": "python3"
  },
  "language_info": {
   "codemirror_mode": {
    "name": "ipython",
    "version": 3
   },
   "file_extension": ".py",
   "mimetype": "text/x-python",
   "name": "python",
   "nbconvert_exporter": "python",
   "pygments_lexer": "ipython3",
   "version": "3.10.6"
  }
 },
 "nbformat": 4,
 "nbformat_minor": 4
}
